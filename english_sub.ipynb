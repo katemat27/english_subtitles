{
 "cells": [
  {
   "cell_type": "markdown",
   "id": "5c6091bf",
   "metadata": {},
   "source": [
    "Введение:\n",
    "\n",
    "Необходимо найти решение определения уровня сложности английского языка в фильмах по субтитрам.\n",
    "\n",
    "Заказчик предоставил данные:\n",
    "\n",
    "- английские словари Oxford, в которых слова распределены по уровню сложности\n",
    "- набор файлов-субтитров, рассортированных по каталогам в соответствии с уровнем сложности\n",
    "- excel файл со список несортированных фильмов и указанием их уровня\n",
    "\n",
    "Цель:\n",
    "\n",
    "- создание модели определения уровня сложности\n",
    "\n",
    "Задачи:\n",
    "\n",
    "- изучение и обработка предоставленного материала\n",
    "- обработка текста субтитров и подготовка для машинного обучения\n",
    "- расчет и добавление дополнительных признаков\n",
    "- тестирование модели и подбор гиперпараметров\n",
    "- выделение наиболее удачных признаков\n",
    "- обучение оптимальной модели на датасете с наиболее полезными признаками\n",
    "\n"
   ]
  },
  {
   "cell_type": "code",
   "execution_count": 1,
   "id": "fb6e07da",
   "metadata": {},
   "outputs": [],
   "source": [
    "import os\n",
    "import re\n",
    "import warnings\n",
    "\n",
    "import pandas as pd\n",
    "import numpy as np\n",
    "\n",
    "import seaborn as sns\n",
    "import matplotlib.pyplot as plt\n",
    "\n",
    "from joblib import dump, load\n",
    "\n",
    "from sklearn.feature_extraction.text import CountVectorizer\n",
    "from sklearn.model_selection import train_test_split, cross_val_score\n",
    "from sklearn.preprocessing import OneHotEncoder, StandardScaler\n",
    "from sklearn.pipeline import Pipeline, FeatureUnion\n",
    "from sklearn.compose import ColumnTransformer\n",
    "from sklearn.metrics import mean_squared_error\n",
    "from sklearn.cluster import KMeans\n",
    "\n",
    "try:\n",
    "    import spacy\n",
    "except:\n",
    "    !pip install spacy\n",
    "    !python -m spacy download en\n",
    "    import spacy\n",
    "\n",
    "try:\n",
    "    import chardet\n",
    "except:\n",
    "    !pip install chardet\n",
    "    import chardet\n",
    "\n",
    "try:\n",
    "    from pypdf import PdfReader\n",
    "except:\n",
    "    !pip install pypdf\n",
    "    from pypdf import PdfReader\n",
    "\n",
    "try:\n",
    "    import pysrt\n",
    "except:\n",
    "    !pip install pysrt\n",
    "    import pysrt"
   ]
  },
  {
   "cell_type": "code",
   "execution_count": 2,
   "id": "8194ae78",
   "metadata": {},
   "outputs": [],
   "source": [
    "warnings.filterwarnings(\"ignore\")\n",
    "plt.style.use('ggplot')\n",
    "nlp = spacy.load(\"en_core_web_sm\")\n",
    "\n",
    "SCORES_PATH    = '/Users/keybl/Desktop/'\n",
    "SUBTITLES_PATH = '/Users/keybl/Desktop/Subtitles_all'\n",
    "OXFORD_PATH    = '/Users/keybl/Desktop/English_level/Oxford_CEFR_level'\n",
    "\n",
    "ENGLISH_LEVELS = ['A1', 'A2', 'B1', 'B2', 'C1', 'C2']\n",
    "\n",
    "RANDOM_STATE = 7"
   ]
  },
  {
   "cell_type": "markdown",
   "id": "81ea0059",
   "metadata": {},
   "source": [
    "Загрузим имеющиеся у нас словари\n",
    "- прочитаем их \n",
    "- разобьем на строки,\n",
    "- выделим слова,\n",
    "- определим уровень\n",
    "- сохраним, из какого словаря взяли слово\n",
    "- удалим дубликаты, оставим те случаи, где слову присвоена более высокая сложность"
   ]
  },
  {
   "cell_type": "code",
   "execution_count": 3,
   "id": "23d2c6fc",
   "metadata": {
    "scrolled": true
   },
   "outputs": [
    {
     "name": "stdout",
     "output_type": "stream",
     "text": [
      "American_Oxford_3000_by_CEFR_level.pdf\n",
      "The_Oxford_3000_by_CEFR_level.pdf\n",
      "The_Oxford_5000_by_CEFR_level.pdf\n",
      "American_Oxford_5000_by_CEFR_level.pdf\n"
     ]
    },
    {
     "data": {
      "text/html": [
       "<style type=\"text/css\">\n",
       "</style>\n",
       "<table id=\"T_35fca\">\n",
       "  <thead>\n",
       "    <tr>\n",
       "      <th class=\"blank level0\" >&nbsp;</th>\n",
       "      <th id=\"T_35fca_level0_col0\" class=\"col_heading level0 col0\" >word</th>\n",
       "      <th id=\"T_35fca_level0_col1\" class=\"col_heading level0 col1\" >source</th>\n",
       "    </tr>\n",
       "    <tr>\n",
       "      <th class=\"index_name level0\" >level</th>\n",
       "      <th class=\"blank col0\" >&nbsp;</th>\n",
       "      <th class=\"blank col1\" >&nbsp;</th>\n",
       "    </tr>\n",
       "  </thead>\n",
       "  <tbody>\n",
       "    <tr>\n",
       "      <th id=\"T_35fca_level0_row0\" class=\"row_heading level0 row0\" >A1</th>\n",
       "      <td id=\"T_35fca_row0_col0\" class=\"data row0 col0\" >735 слов</td>\n",
       "      <td id=\"T_35fca_row0_col1\" class=\"data row0 col1\" >['American_Oxford_5000_by_CEFR_level.pdf']</td>\n",
       "    </tr>\n",
       "    <tr>\n",
       "      <th id=\"T_35fca_level0_row1\" class=\"row_heading level0 row1\" >A2</th>\n",
       "      <td id=\"T_35fca_row1_col0\" class=\"data row1 col0\" >747 слов</td>\n",
       "      <td id=\"T_35fca_row1_col1\" class=\"data row1 col1\" >['American_Oxford_5000_by_CEFR_level.pdf']</td>\n",
       "    </tr>\n",
       "    <tr>\n",
       "      <th id=\"T_35fca_level0_row2\" class=\"row_heading level0 row2\" >B1</th>\n",
       "      <td id=\"T_35fca_row2_col0\" class=\"data row2 col0\" >758 слов</td>\n",
       "      <td id=\"T_35fca_row2_col1\" class=\"data row2 col1\" >['American_Oxford_5000_by_CEFR_level.pdf']</td>\n",
       "    </tr>\n",
       "    <tr>\n",
       "      <th id=\"T_35fca_level0_row3\" class=\"row_heading level0 row3\" >B2</th>\n",
       "      <td id=\"T_35fca_row3_col0\" class=\"data row3 col0\" >1,446 слов</td>\n",
       "      <td id=\"T_35fca_row3_col1\" class=\"data row3 col1\" >['American_Oxford_5000_by_CEFR_level.pdf']</td>\n",
       "    </tr>\n",
       "    <tr>\n",
       "      <th id=\"T_35fca_level0_row4\" class=\"row_heading level0 row4\" >C1</th>\n",
       "      <td id=\"T_35fca_row4_col0\" class=\"data row4 col0\" >1,198 слов</td>\n",
       "      <td id=\"T_35fca_row4_col1\" class=\"data row4 col1\" >['American_Oxford_5000_by_CEFR_level.pdf']</td>\n",
       "    </tr>\n",
       "  </tbody>\n",
       "</table>\n"
      ],
      "text/plain": [
       "<pandas.io.formats.style.Styler at 0x7f97cdb532b0>"
      ]
     },
     "execution_count": 3,
     "metadata": {},
     "output_type": "execute_result"
    }
   ],
   "source": [
    "def process_pdf(content):\n",
    "    \n",
    "    current_level = ''\n",
    "    words_by_level = {key:[] for key in ENGLISH_LEVELS}\n",
    "    \n",
    "    for line in content:\n",
    "        line = line.strip()\n",
    "\n",
    "        if 'Oxford' in line or 'English' in line:\n",
    "            pass\n",
    "        \n",
    "        elif line in ENGLISH_LEVELS:\n",
    "            level = line\n",
    "            \n",
    "        elif ' ' in line:\n",
    "            line = re.sub(r'\\d|,', '', line.lower())   # remove digits and commas and transform to lowercase\n",
    "            words_by_level[level] += [line.split()[0]] #get the first occurency in line as word\n",
    "            \n",
    "        else:\n",
    "            pass\n",
    "    \n",
    "    return words_by_level\n",
    "\n",
    "\n",
    "content = []\n",
    "oxford_words = pd.DataFrame(columns=['word', 'level', 'source', 'type'])\n",
    "\n",
    "# load all pdfs\n",
    "for dirname, _, filenames in os.walk(OXFORD_PATH):\n",
    "    for filename in filenames:\n",
    "        print(filename)\n",
    "        reader = PdfReader(f'{OXFORD_PATH}/{filename}')\n",
    "        for page in reader.pages:\n",
    "            content += page.extract_text().splitlines()\n",
    "        processed = process_pdf(content)\n",
    "        for level in processed:\n",
    "            dict_type = 'us' if 'American' in filename else 'uk'\n",
    "            oxford_words = pd.concat([oxford_words,\n",
    "                                      pd.DataFrame({'word'   : processed[level],\n",
    "                                                    'level'  : level,\n",
    "                                                    'source' : filename,\n",
    "                                                    'type'   : dict_type\n",
    "                                                   })\n",
    "                                     ])\n",
    "\n",
    "# sort words and keep unique with higher levels\n",
    "oxford_words = oxford_words.sort_values(by=['word', 'level'], ascending=True)\n",
    "oxford_words = oxford_words.drop_duplicates(subset=['word'], keep='last')\n",
    "\n",
    "# после сортировки и удаления дубликатов остался только американский инглиш\n",
    "# похоже там все уровни слов считаются выше\n",
    "\n",
    "oxford_words.groupby('level') \\\n",
    "            .agg({'word':'count', 'source': 'unique'}) \\\n",
    "            .style.format({'word':'{:,.0f} слов'})"
   ]
  },
  {
   "cell_type": "code",
   "execution_count": 4,
   "id": "7847ad1f",
   "metadata": {},
   "outputs": [
    {
     "data": {
      "text/plain": [
       "['english_level_oxford.joblib']"
      ]
     },
     "execution_count": 4,
     "metadata": {},
     "output_type": "execute_result"
    }
   ],
   "source": [
    "dump(oxford_words,'english_level_oxford.joblib')"
   ]
  },
  {
   "cell_type": "code",
   "execution_count": 5,
   "id": "f426bd2c",
   "metadata": {},
   "outputs": [
    {
     "name": "stdout",
     "output_type": "stream",
     "text": [
      "посторонний файл .DS_Store\n"
     ]
    },
    {
     "data": {
      "text/html": [
       "<div>\n",
       "<style scoped>\n",
       "    .dataframe tbody tr th:only-of-type {\n",
       "        vertical-align: middle;\n",
       "    }\n",
       "\n",
       "    .dataframe tbody tr th {\n",
       "        vertical-align: top;\n",
       "    }\n",
       "\n",
       "    .dataframe thead th {\n",
       "        text-align: right;\n",
       "    }\n",
       "</style>\n",
       "<table border=\"1\" class=\"dataframe\">\n",
       "  <thead>\n",
       "    <tr style=\"text-align: right;\">\n",
       "      <th></th>\n",
       "      <th>filename</th>\n",
       "      <th>content</th>\n",
       "      <th>duration</th>\n",
       "      <th>charsrate</th>\n",
       "      <th>wordsrate</th>\n",
       "      <th>level</th>\n",
       "      <th>lemmas</th>\n",
       "      <th>A1</th>\n",
       "      <th>A2</th>\n",
       "      <th>B1</th>\n",
       "      <th>B2</th>\n",
       "      <th>C1</th>\n",
       "      <th>C2</th>\n",
       "      <th>A1ratio</th>\n",
       "      <th>A2ratio</th>\n",
       "      <th>B1ratio</th>\n",
       "      <th>B2ratio</th>\n",
       "      <th>C1ratio</th>\n",
       "      <th>C2ratio</th>\n",
       "    </tr>\n",
       "  </thead>\n",
       "  <tbody>\n",
       "    <tr>\n",
       "      <th>0</th>\n",
       "      <td>The IT Crowd - 1e06-Aunt Irma Visits</td>\n",
       "      <td>all right! ok! all right! yes! ok! whoa! i kno...</td>\n",
       "      <td>[2.002, 2.128, 1.809, 3.129, 3.482, 3.447, 3.0...</td>\n",
       "      <td>[6.993006993006993, 8.928571428571429, 2.76395...</td>\n",
       "      <td>[1.4985014985014986, 1.8796992481203008, 0.552...</td>\n",
       "      <td>Subtitles_all</td>\n",
       "      <td>NaN</td>\n",
       "      <td>NaN</td>\n",
       "      <td>NaN</td>\n",
       "      <td>NaN</td>\n",
       "      <td>NaN</td>\n",
       "      <td>NaN</td>\n",
       "      <td>NaN</td>\n",
       "      <td>NaN</td>\n",
       "      <td>NaN</td>\n",
       "      <td>NaN</td>\n",
       "      <td>NaN</td>\n",
       "      <td>NaN</td>\n",
       "      <td>NaN</td>\n",
       "    </tr>\n",
       "    <tr>\n",
       "      <th>1</th>\n",
       "      <td>Chip S1 E4</td>\n",
       "      <td>♪ sometimes some crimes ♪ ♪ go slippin' throug...</td>\n",
       "      <td>[3.916, 2.457, 3.541, 2.832, 1.999, 1.624, 2.2...</td>\n",
       "      <td>[6.384065372829418, 13.431013431013431, 7.3425...</td>\n",
       "      <td>[1.2768130745658834, 2.849002849002849, 1.6944...</td>\n",
       "      <td>Subtitles_all</td>\n",
       "      <td>NaN</td>\n",
       "      <td>NaN</td>\n",
       "      <td>NaN</td>\n",
       "      <td>NaN</td>\n",
       "      <td>NaN</td>\n",
       "      <td>NaN</td>\n",
       "      <td>NaN</td>\n",
       "      <td>NaN</td>\n",
       "      <td>NaN</td>\n",
       "      <td>NaN</td>\n",
       "      <td>NaN</td>\n",
       "      <td>NaN</td>\n",
       "      <td>NaN</td>\n",
       "    </tr>\n",
       "    <tr>\n",
       "      <th>2</th>\n",
       "      <td>Dredd(2012)</td>\n",
       "      <td>america is an irradiated wasteiand. within it ...</td>\n",
       "      <td>[3.086, 1.918, 2.919, 1.751, 3.336, 3.336, 2.6...</td>\n",
       "      <td>[11.34154244977317, 11.470281543274245, 12.332...</td>\n",
       "      <td>[1.6202203499675956, 2.6068821689259645, 2.055...</td>\n",
       "      <td>Subtitles_all</td>\n",
       "      <td>NaN</td>\n",
       "      <td>NaN</td>\n",
       "      <td>NaN</td>\n",
       "      <td>NaN</td>\n",
       "      <td>NaN</td>\n",
       "      <td>NaN</td>\n",
       "      <td>NaN</td>\n",
       "      <td>NaN</td>\n",
       "      <td>NaN</td>\n",
       "      <td>NaN</td>\n",
       "      <td>NaN</td>\n",
       "      <td>NaN</td>\n",
       "      <td>NaN</td>\n",
       "    </tr>\n",
       "  </tbody>\n",
       "</table>\n",
       "</div>"
      ],
      "text/plain": [
       "                               filename  \\\n",
       "0  The IT Crowd - 1e06-Aunt Irma Visits   \n",
       "1                            Chip S1 E4   \n",
       "2                           Dredd(2012)   \n",
       "\n",
       "                                             content  \\\n",
       "0  all right! ok! all right! yes! ok! whoa! i kno...   \n",
       "1  ♪ sometimes some crimes ♪ ♪ go slippin' throug...   \n",
       "2  america is an irradiated wasteiand. within it ...   \n",
       "\n",
       "                                            duration  \\\n",
       "0  [2.002, 2.128, 1.809, 3.129, 3.482, 3.447, 3.0...   \n",
       "1  [3.916, 2.457, 3.541, 2.832, 1.999, 1.624, 2.2...   \n",
       "2  [3.086, 1.918, 2.919, 1.751, 3.336, 3.336, 2.6...   \n",
       "\n",
       "                                           charsrate  \\\n",
       "0  [6.993006993006993, 8.928571428571429, 2.76395...   \n",
       "1  [6.384065372829418, 13.431013431013431, 7.3425...   \n",
       "2  [11.34154244977317, 11.470281543274245, 12.332...   \n",
       "\n",
       "                                           wordsrate          level  lemmas  \\\n",
       "0  [1.4985014985014986, 1.8796992481203008, 0.552...  Subtitles_all     NaN   \n",
       "1  [1.2768130745658834, 2.849002849002849, 1.6944...  Subtitles_all     NaN   \n",
       "2  [1.6202203499675956, 2.6068821689259645, 2.055...  Subtitles_all     NaN   \n",
       "\n",
       "   A1  A2  B1  B2  C1  C2  A1ratio  A2ratio  B1ratio  B2ratio  C1ratio  \\\n",
       "0 NaN NaN NaN NaN NaN NaN      NaN      NaN      NaN      NaN      NaN   \n",
       "1 NaN NaN NaN NaN NaN NaN      NaN      NaN      NaN      NaN      NaN   \n",
       "2 NaN NaN NaN NaN NaN NaN      NaN      NaN      NaN      NaN      NaN   \n",
       "\n",
       "   C2ratio  \n",
       "0      NaN  \n",
       "1      NaN  \n",
       "2      NaN  "
      ]
     },
     "execution_count": 5,
     "metadata": {},
     "output_type": "execute_result"
    }
   ],
   "source": [
    "# process line\n",
    "def process_line(line):\n",
    "    if re.search(r'[A-Za-z]',line): \n",
    "        line = line.lower()\n",
    "        line = re.sub(r'\\n', ' ', line)                            # remove new lines\n",
    "        line = re.sub(r'- ', ' ', line)                            # remove dash\n",
    "        line = re.sub(r'\\<[^\\<]+?\\>', '', line)                    # remove html tags\n",
    "        line = re.sub(r'\\([^\\(]+?\\)', '', line)                    # remove () parenthesis\n",
    "        line = re.sub(r'\\[[^\\[]+?\\]', '', line)                    # remove [] parenthesis\n",
    "        line = re.sub(r'^([\\w#\\s]+\\:)', ' ', line)                 # remove speaker tag\n",
    "        line = re.sub(r'[^[:alnum:][:punct:][:blank:]]',' ', line) # remove all other non-speach shars\n",
    "        line = re.sub(r'\\s\\s+', ' ', line).strip()                 # remove extra spaces\n",
    "    return line\n",
    "\n",
    "\n",
    "# process text line by line   \n",
    "def process_text(content):\n",
    "    text = []\n",
    "    duration  = []\n",
    "    charsrate = []\n",
    "    wordsrate  = []\n",
    "    for item in content:\n",
    "        if not hasattr(item, 'duration'):\n",
    "            print('no')\n",
    "        if item.duration.ordinal>0:\n",
    "            line = process_line(item.text_without_tags)\n",
    "            text.append(line)\n",
    "            duration.append(item.duration.ordinal/1000)\n",
    "            charsrate.append(item.characters_per_second)\n",
    "            wordsrate.append(len(line.split())/item.duration.ordinal*1000.0)\n",
    "    return ' '.join(text), duration, charsrate, wordsrate\n",
    "\n",
    "\n",
    "# process file\n",
    "def process_srt(dirname, filename):\n",
    "    global count\n",
    "    if not filename.endswith('.srt'):                        # skip non srt files\n",
    "        print('посторонний файл', filename)\n",
    "        return False\n",
    "    fullpath = os.path.join(dirname,filename)\n",
    "    try:\n",
    "        enc = chardet.detect(open(fullpath, \"rb\").read())['encoding']\n",
    "        content = pysrt.open(fullpath, encoding=enc)\n",
    "    except:\n",
    "        print('не прочиталось', filename)\n",
    "        return False\n",
    "    return process_text(content)                            # clean text and return\n",
    "\n",
    "\n",
    "# movies dataset template\n",
    "movies = pd.DataFrame(columns=['filename', \n",
    "                               'content', \n",
    "                               'duration', \n",
    "                               'charsrate', \n",
    "                               'wordsrate', \n",
    "                               'level', \n",
    "                               'lemmas'] + ENGLISH_LEVELS + [l+'ratio' for l in ENGLISH_LEVELS]\n",
    "                     )\n",
    "\n",
    "# recursive walk through dirs\n",
    "for dirname, _, filenames in os.walk(SUBTITLES_PATH):\n",
    "    for filename in filenames:\n",
    "        level  = dirname.split('/')[-1]                   # get level name from dir\n",
    "        result = process_srt(dirname, filename)           # process file\n",
    "        if result:                                        # add movie to dataframe\n",
    "            subs, duration, charsrate, wordsrate = result\n",
    "            movies.loc[len(movies)] = \\\n",
    "                {'filename' : filename.replace('.srt', ''),\n",
    "                 'content'  : subs,\n",
    "                 'duration' : duration, \n",
    "                 'charsrate': charsrate, \n",
    "                 'wordsrate': wordsrate, \n",
    "                 'level'    : level\n",
    "                }\n",
    "\n",
    "movies.head(3)"
   ]
  },
  {
   "cell_type": "markdown",
   "id": "ab6e546b",
   "metadata": {},
   "source": [
    "Excel labels processing\n",
    "\n",
    "Часть файлов лежит в общем каталоге без указания уровня сложности. Для них заказчик предоставил excel-файл со списком фильмов и уровнями.\n",
    "\n",
    "Загрузим файл и изучим его:\n",
    "\n",
    "- удалим дубликаты\n",
    "- поправим несовпадения названий\n",
    "- из указанных уровней оставим более сложный вариант\n",
    "- удалим фильмы, для которых нет информации по уровню сложности"
   ]
  },
  {
   "cell_type": "code",
   "execution_count": 25,
   "id": "32c16850",
   "metadata": {},
   "outputs": [],
   "source": [
    "DATASETS_PATH_LOCAL = '/Users/keybl/Desktop/'                               # local path to data\n",
    "DATASETS_PATH_REMOTE = '/Users/keybl/Desktop/'                             # remote path to data\n",
    "\n",
    "SUBTITLES_PATH_LOCAL = '/Users/keybl/Desktop/subtitles_all/'                    # local path to data (subtitles)\n",
    "SUBTITLES_PATH_REMOTE = '/Users/keybl/Desktop/subtitles_all/'    # remote path to data (subtitles)\n",
    "\n",
    "CR = '\\n'                                                       # new line char sequence"
   ]
  },
  {
   "cell_type": "code",
   "execution_count": 17,
   "id": "88eca41a",
   "metadata": {},
   "outputs": [],
   "source": [
    "def custom_read_csv(file_name, separator=','):\n",
    "    \"\"\"\n",
    "    reading dataset of .csv format:\n",
    "       first from local storage;\n",
    "       if unsuccessful from remote storage.\n",
    "    \"\"\"\n",
    "\n",
    "    path_local = f'{PATH_LOCAL}{file_name}'\n",
    "    path_remote = f'{PATH_REMOTE}{file_name}'\n",
    "    \n",
    "    if os.path.exists(path_local):\n",
    "        return pd.read_csv(path_local, sep=separator)\n",
    "\n",
    "    elif os.path.exists(path_remote):\n",
    "        return pd.read_csv(path_remote, sep=separator)\n",
    "\n",
    "    else:\n",
    "        print(f'File \"{file_name}\" not found at the specified path ')"
   ]
  },
  {
   "cell_type": "code",
   "execution_count": 18,
   "id": "793a7fa9",
   "metadata": {},
   "outputs": [],
   "source": [
    "# text styles\n",
    "class f:\n",
    "    BOLD = \"\\033[1m\"\n",
    "    ITALIC = \"\\033[3m\"\n",
    "    END = \"\\033[0m\""
   ]
  },
  {
   "cell_type": "code",
   "execution_count": 19,
   "id": "0df4d76c",
   "metadata": {},
   "outputs": [],
   "source": [
    "# Pandas defaults\n",
    "pd.options.display.max_colwidth = 100\n",
    "pd.options.display.max_rows = 500\n",
    "pd.options.display.max_columns = 100\n",
    "pd.options.display.float_format = '{:.3f}'.format\n",
    "pd.options.display.colheader_justify = 'left'"
   ]
  },
  {
   "cell_type": "code",
   "execution_count": 20,
   "id": "21190723",
   "metadata": {},
   "outputs": [],
   "source": [
    "# others\n",
    "warnings.filterwarnings('ignore')"
   ]
  },
  {
   "cell_type": "markdown",
   "id": "de29a2ba",
   "metadata": {},
   "source": [
    "Подготовка слов из субтитров к фильмам\n",
    "\n",
    "Функция для чтения субтитров из файла"
   ]
  },
  {
   "cell_type": "code",
   "execution_count": 21,
   "id": "a6bcb773",
   "metadata": {},
   "outputs": [],
   "source": [
    "def read_subtitles(file_name, file_ext='srt', file_encoding='latin-1'):\n",
    "    \"\"\"\n",
    "    Чтение текста из файла file_name.\n",
    "    Возвращает датафрейм с текстом и статус операции:\n",
    "        'OK' – файл найден;\n",
    "        'no subtitles' – файл с субтитрами не найден.\n",
    "    \"\"\"\n",
    "\n",
    "    path_local = f'{SUBTITLES_PATH_LOCAL}{file_name}.{file_ext}'\n",
    "#     print(f'file {path_local} in process')\n",
    "    \n",
    "    if os.path.exists(path_local):\n",
    "        return pd.read_table(path_local, names=['subs'], encoding=file_encoding), 'OK'\n",
    "\n",
    "    else:\n",
    "        print(f'file {f.BOLD}{path_local}{f.END} not found')\n",
    "        return pd.DataFrame(), 'no subtitles'"
   ]
  },
  {
   "cell_type": "markdown",
   "id": "bad6e94d",
   "metadata": {},
   "source": [
    "Функция для очистки текста"
   ]
  },
  {
   "cell_type": "code",
   "execution_count": 22,
   "id": "4afbdb5d",
   "metadata": {},
   "outputs": [],
   "source": [
    "def clean_text(text):\n",
    "    '''\n",
    "    Принятый текст в типа string:\n",
    "        - переводит в нижний регистр;\n",
    "        - заменяет на пробел символ перевода строки;\n",
    "        - заменяет на пробел теги (текст, заключенный в квадратные или фигурные скобки);\n",
    "        - заменяет на пробел все символы, кроме букв, дефисов и апострофов внутри слов;\n",
    "        - удаляет все слова из 1-2 букв;\n",
    "        - заменяет цепочки пробелов на одинарный пробел.\n",
    "    Возвращает очищенный текст.\n",
    "    '''\n",
    "    # приведение значений к нижнему регистру\n",
    "    text = text.lower()\n",
    "    \n",
    "    # удаление перевода строки\n",
    "    text = text.replace('\\n', ' ')\n",
    "    \n",
    "    # удаление тегов: частей строк между символами < и >, { и }\n",
    "    text = re.sub('<.*?>', ' ', text)\n",
    "    text = re.sub('{.*?}', ' ', text)\n",
    "\n",
    "    #-------------------------------------------------------------------------------------------------\n",
    "    # удаление всех символов, кроме букв, пробелов и внутренних дефисов и апострофов\n",
    "    \n",
    "    # замена дефисов внутри слов на временный заполнитель (перед удалением небуквенных символов)\n",
    "    text = re.sub('([a-zA-Z])-([a-zA-Z])', '\\\\1temporarydefis\\\\2', text)\n",
    "    # замена апострофов внутри слов на временный заполнитель (перед удалением небуквенных символов)\n",
    "    text = re.sub(\"([a-zA-Z])'([a-zA-Z])\", '\\\\1temporaryapostrof\\\\2', text)\n",
    "    # удаление всех символов, кроме букв и пробелов\n",
    "    text = re.sub('[^a-zA-Z\\s]', ' ', text)\n",
    "    # восстановление внутренних дефисов (замена временного заполнителя на настоящий дефис)\n",
    "    text = text.replace('temporarydefis', '-')\n",
    "    # восстановление внутренних апострофов (замена временного заполнителя на настоящий апостроф)\n",
    "    text = text.replace('temporaryapostrof', \"'\")\n",
    "    #-------------------------------------------------------------------------------------------------\n",
    "\n",
    "    # удаление всех символов, кроме букв и пробелов\n",
    "#     text = re.sub('[^a-zA-Z\\s]', ' ', text)                      # на случай, если дефисы и апострофы тоже нужно удалить\n",
    "    \n",
    "    # удаление слов из одной-двух букв (за редким исключением)\n",
    "#     subtitles = re.sub(r'\\s\\b\\w{1,2}\\b\\s', ' ', subtitles)       # слово окружено пробелами\n",
    "    text = re.sub(r'\\b\\w{1,2}\\b', ' ', text)                       # неважно, чем окружено слово\n",
    "    \n",
    "    # замена нескольких последовательных пробелов на одинарные\n",
    "    text = re.sub(' +', ' ', text)\n",
    "    \n",
    "    # удаление крайних пробелов (мелочь, но пусть будет)\n",
    "    text = text.strip()\n",
    "\n",
    "    return text"
   ]
  },
  {
   "cell_type": "markdown",
   "id": "d0e70896",
   "metadata": {},
   "source": [
    "Функция для подготовки субтитров"
   ]
  },
  {
   "cell_type": "code",
   "execution_count": 23,
   "id": "f38f59f7",
   "metadata": {},
   "outputs": [],
   "source": [
    "def prepare_subtitles(movie_name, clean=True):\n",
    "    '''\n",
    "    Загружает субтитры для указанного фильма movie_name с помощью функции read_subtitles.\n",
    "    Выполняет очистку текста от лишней информации (служебные данные, знаки препинания и т.п.) с помощью функции clean_text.\n",
    "    Возвращает очищенный текст.\n",
    "    '''\n",
    "    \n",
    "    # чтение файла с субтитрами; имя файла совпадает с названием фильма в таблице фильмов\n",
    "    df, status = read_subtitles(movie_name)\n",
    "    if status == 'no subtitles':\n",
    "        return 'no subtitles'\n",
    "    \n",
    "    # удаление служебных строк (начинаются с цифры)\n",
    "    df = df[~df.subs.str.match('^\\d')].reset_index(drop=True)\n",
    "    \n",
    "    # соединение отдельных субтитров в единый корпус\n",
    "    subtitles = df.subs.str.cat(sep=' ')\n",
    "    \n",
    "    if clean:\n",
    "        subtitles = clean_text(subtitles)\n",
    "    \n",
    "    return subtitles"
   ]
  },
  {
   "cell_type": "markdown",
   "id": "8b3833cd",
   "metadata": {},
   "source": [
    "Чтение таблицы с фильмами"
   ]
  },
  {
   "cell_type": "code",
   "execution_count": 26,
   "id": "80a6fa04",
   "metadata": {},
   "outputs": [],
   "source": [
    "data = pd.read_excel(DATASETS_PATH_LOCAL + 'movies_labels.xlsx', index_col='id').reset_index(drop=True)"
   ]
  },
  {
   "cell_type": "code",
   "execution_count": 27,
   "id": "8268916a",
   "metadata": {},
   "outputs": [
    {
     "data": {
      "text/html": [
       "<div>\n",
       "<style scoped>\n",
       "    .dataframe tbody tr th:only-of-type {\n",
       "        vertical-align: middle;\n",
       "    }\n",
       "\n",
       "    .dataframe tbody tr th {\n",
       "        vertical-align: top;\n",
       "    }\n",
       "\n",
       "    .dataframe thead th {\n",
       "        text-align: right;\n",
       "    }\n",
       "</style>\n",
       "<table border=\"1\" class=\"dataframe\">\n",
       "  <thead>\n",
       "    <tr style=\"text-align: left;\">\n",
       "      <th></th>\n",
       "      <th>Movie</th>\n",
       "      <th>Level</th>\n",
       "    </tr>\n",
       "  </thead>\n",
       "  <tbody>\n",
       "    <tr>\n",
       "      <th>206</th>\n",
       "      <td>Downton Abbey - S01E06 - Episode 6.eng.SDH</td>\n",
       "      <td>C1</td>\n",
       "    </tr>\n",
       "    <tr>\n",
       "      <th>307</th>\n",
       "      <td>The.Umbrella.Academy.S01E04.WEBRip.x264-ION10</td>\n",
       "      <td>A2</td>\n",
       "    </tr>\n",
       "    <tr>\n",
       "      <th>360</th>\n",
       "      <td>Interstellar-2014-HDCAM-NEW-SOURCE-READNFO-XVID-AC3-ACAB</td>\n",
       "      <td>B2</td>\n",
       "    </tr>\n",
       "  </tbody>\n",
       "</table>\n",
       "</div>"
      ],
      "text/plain": [
       "    Movie                                                     Level\n",
       "206                Downton Abbey - S01E06 - Episode 6.eng.SDH  C1  \n",
       "307             The.Umbrella.Academy.S01E04.WEBRip.x264-ION10  A2  \n",
       "360  Interstellar-2014-HDCAM-NEW-SOURCE-READNFO-XVID-AC3-ACAB  B2  "
      ]
     },
     "execution_count": 27,
     "metadata": {},
     "output_type": "execute_result"
    }
   ],
   "source": [
    "data.sample(3)"
   ]
  },
  {
   "cell_type": "markdown",
   "id": "d2bdbfaa",
   "metadata": {},
   "source": [
    "Добавление слов из субтитров в таблицу фильмов"
   ]
  },
  {
   "cell_type": "code",
   "execution_count": 28,
   "id": "d0734232",
   "metadata": {},
   "outputs": [
    {
     "name": "stdout",
     "output_type": "stream",
     "text": [
      "file \u001b[1m/Users/keybl/Desktop/subtitles_all/Glass Onion.srt\u001b[0m not found\n",
      "file \u001b[1m/Users/keybl/Desktop/subtitles_all/Matilda(2022).srt\u001b[0m not found\n"
     ]
    }
   ],
   "source": [
    "data['Subtitles'] = data.Movie.apply(prepare_subtitles, clean=True)"
   ]
  },
  {
   "cell_type": "markdown",
   "id": "167f2ba2",
   "metadata": {},
   "source": [
    "Для некоторых фильмов файл с субтитрами не найден. Однозначно определить, что это за фильм, и скачать для него субтитры не удалось."
   ]
  },
  {
   "cell_type": "markdown",
   "id": "eede71a5",
   "metadata": {},
   "source": [
    "Удаление из таблицы фильмов без субтитров"
   ]
  },
  {
   "cell_type": "code",
   "execution_count": 30,
   "id": "a9b53ede",
   "metadata": {},
   "outputs": [],
   "source": [
    "data = data[data.Subtitles != 'no subtitles']"
   ]
  },
  {
   "cell_type": "markdown",
   "id": "b8971edb",
   "metadata": {},
   "source": [
    "Пример для ручной проверки\n",
    "\n",
    "Очищенные субтитры"
   ]
  },
  {
   "cell_type": "code",
   "execution_count": 31,
   "id": "e1b56e4a",
   "metadata": {},
   "outputs": [
    {
     "data": {
      "text/plain": [
       "\"who they call when the chips are startin fall just when the villains are winning the trouble' beginning brew explosion the man called flintstone that' who who' always there there rescue some maiden fair man with instincts unerring full the old daring- the man called flintstone that' who thrives diet danger and ' stranger the unjust with romance who the man the man called flintstone rumbling screeches don' let him get away don' worry won' hee hee hee hee hee hee hee hee hee angry muttering detour watch out snores angry muttering have parachute too good let' follow him that our parachute hee hee hee hee hee hee hee hee hee some parachute shut you angry muttering crash have him trapped good let' squish him ali hurry hurry must not escape won' ' got him now panting giggles chuckles both laughing that' the end rock slag nice work bobo thank you ali chuckles they think they' finished off they don' know how tough secret agents are this secret agent rock slag reporting chief boulder come chief this chief boulder anything wrong slag plenty ali and bobo strong-arm boys got cornered and tried are you slag well think ' twisted tibia and cracked clavicle chief stay there slag ' get ambulance you right away right chief cracked clavicle that' bad break just were closing the green goose and his nefarious smirk organization the whole world peril long the green goose loose operator get the bedrock hospital wilma ' gonna leave now wilma fred but please hurry still have lot packing back right after take dino and hoppy you know where don' envy the boys dino and hoppy always put such fuss when they the vet' ' shame can' take them with ' gonna miss hoppy ' gonna miss dino too but camping vacation bad enough without dragging pets along how true seems like there' million and one things when you' going trip huh barney yeah darn near forgot take dino and hoppy don' say barn oops almost gave away watch those knew were gonna leave the - - for weeks they' take the woods well how gonna get the office fred ' sneak the back alley they' never been taken inside that way before hey that' good idea laughs come dino gotta see man about something barney yeah you too hoppy dino yipe barking fred dino hold hold whoa whoa whoa hoppy honking barney take easy hoppy take easy calm down now dino come back here come look out fred comin through oops boy flintstone rubble you' going about all wrong you have use psychology psychology what you mean doc ' show you miss soapstone send zsa zsa and dolly out here yes sir who zsa zsa and dolly zsa zsa girl hoparoo and dolly girl dinosaur watch this honking barking honks barks honking and barking laughs gotta hand you doc you sure know your psychology doesn' barn barney woo woo woo woo woo woo fred barney huh what boy thanks fred that psychology stuff was working too both laughing hope the girls have everything packed ' anxious get started too hey where you going fred this the way rock canyon road right barn ' save minutes going home this way but rock canyon road closed ' too dangerous not for good driver like hold barn here are ought have seat belts fred who needs there ' down how that for skilful driving goodness fred are you all right head boy that' some bump ooh hey ' better get you doctor fred that' not necessary don' know fred won' hurt have your head examined barney here are the bedrock hospital ' only take minute you wait here ' find doctor make snappy will feel now pardon nurse friend needs see doctor you' have wait all the doctors are busy with patient who fell off roof last night fell off roof hurt ' say they' been working him all night first doctor hold you' got his head backwards second doctor well twist around that' enough now cut how are you doing irving finished minute nurse clanking there ' finished the statue looks just like new when the cement dries can back the roof how about the man who fell with him how' doing not bad moonstone taking care him moonstone ' chief boulder head this country' secret service and your patient rock slag best agent thanks chief chief doc you must get rock back his feet quickly ' the only agent have capable carrying out very important and dangerous mission rock slag survive fall still alive bobo our work not done ali slag can leave any time just bruised few ribs now you' excuse ' just look other patients sure doc sure and thanks that' great news what' this important mission chief the biggest yet you' going eliminate the guy that tried eliminate you rock you mean the green goose yes intelligence reports has weapon powerful could destroy the world and probably will unless nurse rock slag ooh growls mmm giggles unless stopped you see slag the safety every man woman and child every country depends you why chief chief has you rock slag rock slag yum yum yum mmm squeals and giggles there' your answer you have uncontrollable appeal women yes know but how can that help chief chief ' going put your gift good use how chief through tanya the green goose' number one lieutenant she' heard about you rock and she wants meet you badly she' made deal with turn the green goose over you that' the deal you' going meet her paris when leave chief once ' call the office and have them get your plane ticket last rock slag alone now can finish the job ali hello rock slag ali bobo you' taking trip slag one-way trip huh hee hee hee hee hee hee hee this time got him ali rock slag finished bobo hee hee hee hee hee hee hee hee hee hee hee with rock back the job the green goose' goose good cooked right now rock what happened while you were gone had visitors chief ali and bobo right the goon twins chief well that does tanya will never for you you' mess that cooks our green goose ' try heal fast chief won' fast enough rock any moment the green goose may decide take over the world ' better cancel your trip paris this the patient yeah doc fred flintstone fell his head ' now doc feel fine well why don' check you over anyway come with flintstone but ' telling you ' waste time hmm your pulse seems normal right the button fact now cross your legs and ' test your reflexes make snappy will doc ' vacation ' almost finished reflex normal mumbling you can leave now flintstone right after give you booster shot best play safe you know yeah yeah yeah all right let' have the shot doc wanna get out here doctor you won' even feel this flintstone fred yeow watch doc what are you trying put the hospital ' amazing that man dead ringer for rock slag look the size this needle what you think brontosaurus why could rock' twin his twin wonder why not ' worth try pardon sir can have word with you who chief yes your country needs you country needsme now let' see got this straight the government will send and family paris pick green goose because look like this guy right flintstone your resemblance our regular messenger fantastic and you can see ' condition make the trip fred yeah can see that this green goose must very valuable bird very valuable our government wants put him cage had planned camping trip this year but you did say all expenses paid every last penny that case ' glad help the government get the green goose chief good now raise your right hand right hand and repeat after will not reveal mission anyone will not reveal mission anyone not even wife not even wife congratulations you are now official secret agent gosh laughs spy-type guy music starts ' gonna spy double zero guy ' got that certain air debonair full the old savoir-faire ' drive jazzy car like some big movie star and catch each lady' eye spy-type guy - -shay ' carry attache don' ask what' attache fits the briefcase all agents have someone gets the drop with one karate chop ' send beddy-bye cause ' the spy-type guy can shoot gun from his handmade boot his bulletproof tailored suit really whopper ' helicopper ' from place place and never leave trace ' save the human race cause ' spy-type sly-type spy-type guy music ends all right flintstone here are your plane tickets and some money you leave for paris the morning boy and rember your code name rock slag gotcha rock slag rock slag rock slag rock slag chief are you out your mind why that guy match for the green goose and his gang know but ' our only chance besides ' there keep eye him you' better that flintstone will worse shape than ' long shot but just may able pull off fred hiya barney fred gee thought you' never come out what did the doc have say ' but got cancel the camping trip cancel the camping trip there who who rock slag rock slag ooh you naughty boy trying leave without good-bye kissing and giggling wow what hospital plan they have here don' get now tell fred how come you gotta cancel our camping trip because wilma and are going paris paris stop the car fred stop the car what' the matter look you got bump your head and now you think you' going paris right fred right but paris you need money and plane tickets fred here' money and here' plane tickets gosh fred what' this all about ' tell you later pal right now want see wilma' face when she hears the news that was rock slag bobo can' ali was still alive ooh don' get slag the green goose will get quick after him here comes must not fail this time boy this rough road you' not kidding when give the signal you push the rock right push the rock take easy fred don' want another accident whoops hey look the car going right through the tunnel ali get ready get set push hee hee hee hee hee hee hee hee hee right target that finishes rock slag for keeps this time hee hee hee hee hee hee hee hee you almost didn' make paris huh fred yeah that boulder would have cancelled trip permanently wonder what' taking the boys long they' waiting for finish packing what else - the trailer' got flat wilma just our luck well ' better change and save some time ' get the spare ' always sticking neck out for someone else one spare coming there ' fixed hiya girls sorry ' late wilma fred how come you' walking where' the car never mind that wait till you hear the news what news little change plans dear and mrs flintstone will spending their vacation abroad this year paris france paris france but but but how what mean when did tut-tut sweetheart questions please just take word for paris can hardly believe you wonderful man mmm ooh ' happy for you wilma wish could take trip like that hey that' great idea look barney can get our money back all the camping stuff rented and buy plane tickets for you and betty and bamm bamm really fred you think there would enough fred sure maybe not enough for first class even second class but least ' all together what you say barn say put her there buddy boy you just talked into wilma did you hear that ' going with you music starts here are like always are when you' near ' never far ' matched and perfect set never separated yet fact fred are the indisputable barney spositively irrefutable together you might say ' -and-you-able team-mates team-mates fred may stay may barney either way always know will both the scene nothing ever comes between cause are the most reliable definitely undeniable together ' like ' you-and- able team-mates team-mates when broke arm last summer you wore the cast what else could ' team-mates through and through and you together team-mates team-mates team-mates fred when exercise ' you who always starts breathing fast barney how else could ' suited you and together team-mates team-mates team-mates now that' the long and short the unabridged report the starboard and the port team-mates team-mates fred laughs put her there barn ' team-mates barney yeah yeah that' the long and short the unabridged report the starboard and the port team-mates team-mates announcer flight for paris now boarding gate all passengers please check this the flight paris yes sir here' our tickets one set first class one set last class fine put your luggage the scales please with pleasure ticket agent pounds that' quite load brak you can say that again you may board now sir the helicopter will take you the flight deck well thank you first class passengers this way come wilma hold bud last class that way and don' walk the carpet yes sir fred why don' you get some magazines yeah yeah good idea book book and colouring book for pebbles laughs all right can hardly wait report the green goose how eliminated rock slag look our reward will great look look the newsstand ' live like kings ' die like dogs ooh but how could there' not scratch him when the green goose finds out failed there' plenty scratches onus this time ' make sure you missed hee hee hee hee hee hee hee hee hee gulps speaks pseudo-japanese how exciting ' never been helicopter before hold daddy pebbly-poo hedicopter whee hee hee hee she said hedicopter hee hee hee here' the flight deck wonder how barney' making out hurry barney ' miss the plane ' hurryin ' hurryin why the flight deck way here pilot well ' big aeroplane use jet propulsion get airborne jet propulsion yeah you see the plane attached that launching device the edge the cliff when the pilot ready gives the signal the launching crew releases the retaining rope and the plane takes off what will they think next come wilma let' get aboard announcer flight for paris now boarding gate fasten your seat belts please are ready take off got your seat belt fastened honey -huh ready for takeoff roger let wish were already there fred feel little nervous nonsense honey there isn' safer place the world than right here let him have all right who' the wise guy why don' you see how betty and barney are doing yeah yeah that' good idea pardon miss where are the last class passengers all the way back sir thank you thank you back minute dear all right fred here comes yup dum dum dum doo doo doo doo doo now' our chance second class boy they sure pack them tight third class wow double-decker ' this bad here last class must really something barney betty hello fred hiya neighbour you wanna take our seats for while thanks but ' landing pretty soon see you later ' all finished ali just time bobo here comes how could sawed the hole right here snoring fred look huh what ' over paris paris let see let see there' the eiffel rock tower what beautiful city fasten your seat belts please are about land metallic squeak whistling there happy sound paris sound that' always here for you and the little bicycles with bells -ringing and tires singing along the quiet murmur the river seine and the children singing song the funny taxi horns that hurt your ears they only try say ' glad you' here and each parisian you meet will greet you with welcome home mon ami are happy you could with paris whistling the little bicycles with bells -ringing and tires singing along the quiet murmur the river seine and the children singing song the funny taxi horns that hurt your ear they only try say ' glad you' here and each parisian you meet will greet you with welcome home mon ami are happy you could with paris all right everybody smile betty how about you wilma aren' you going the picture will soon focus the camera and set the timer hmm seconds should enough there all set she better hurry she made how hate these mob shots how' this that' swell hey turned out great now let' take one you fred and corny poses please how' this wilma ' alone ali now' our chance ali all together push there she goes and here she comes both panting safe now right hee hee hee hee hee hee hee rants pseudo-japanese with you minute fred have load the camera take your time honey oops have talk you flintstone chief what are you doing here paris there' been change plans the green goose has flown rome you' have there immediately rome ' just arrived paris how will explain wilma you' think something and how find the green goose rome triple will help you triple who' our top foreign agent master disguise ' show you whistles ruff ruff ruff ruff ruff ruff that' triple -hmm meet rock slag trip pleased meet you slag wow that dog disguise terrific yes ' got million them watch transylvanian accent how you slag uhh uhh ooh gee that' great frankenrock triple you can now see you rome slag triple squawks boy ' good wilma fred where are you ' ready take your picture hold wilma hold how would you all like some real genuine italian food hey sounds like elegant idea pal and know elegant place get where' that fred italy where else all italy sure ' grab plane for rome and find nice restaurant but all the way italy just get italian dinner hey guess ' lucky isn' the mood for chinese food heh heh heh heh heh heh heh heh heh wilma rome moonlight ' beautiful isn' fred yeah you know something wilma were here long time ago ' down there that garden serenading you really fred -huh ' dressed one those romeo outfits and ' come leaping over that garden wall wilmalita frederico pensate amore pensate amore think love think love think love signora signore pensate amore think love think love think love don' think tomorrow who thinks tomorrow with such moon above crash signora signore pensate amore think love think love think love don' think tomorrow who thinks tomorrow mmm with such moon above signora signore pensate amore think love think love think love fred you' romantic hate interrupt you two love birds but your pizza' getting cold pizza boy come wilma might well face fred loves all right but his big love food hey how about nice bottle wine with our dinner waiter uno botelo vino pronto ooh you speak italian heh heh heh fraulein hows about- dis- bottle senor yeah sure that bottle' fine did- you read the label signore follow xxx never heard that brand says follow triple want talk you yeah yeah ' glad pardon minute ' right back don' long dear psst slag that you triple you' great that disguise stuff what' the chief wants talk you the chief here rome where ' waiting the kitchen ' see what wants man hey waiter how about some bread sticks buddy keep- you shirt chief you here there' girl this restaurant asking for rock slag hey that' right and she' going tell you where pick the green goose great how will know her you say flying firefighters and she' answer bubala bubala huh ' find her right away chief pardon madame rock little cabbage ' happy see you again flighty firefighters rock where have you been you' supposed answer bubala bubala you called bubala rock rock where are you rock mon cheri rock heard you were here ooh miss you much any chance you know about the flighty fireflies rock - little cabbage where are you excuse fred italian accent ' all right shall dance dance darling doh boy where were you fred was just over the - rock baby where are you yoo-hoo what are you doing under the table fred ' just tying shoe you' not wearing any fred yeah hey now why don' all dancing something ' too tired fred think barney and will call night see you the morning wilma good night betty night you two ' not tired fred ' love dancing you just made yourself date honey ' find ourselves good night club and great band and whip sounds like fun shh ' how did you make out flintstone you gave bum steer chief nobody called bubala hmm there' another girl the garden she may the right one ' talk her but first gotta keep wilma busy will staying out late fred yeah why don' you put pebbles with betty and barney and then while you' doing that ' phone ahead and reserve table all right ' wait for you upstairs ' with you minutes honey not second longer yes- ' take her george whoa matilda third floor isn' that sweet pebbles tired she doesn' even know you moved her thanks betty ' pick pebbles the morning know way make wishes come true easy climbin tree just close your eyes and open your heart slowly repeat after both tickle toddle nickel- noddle tootle bell and shoe these are the magical words sing when want wish come true wish that could fly higher than high out where tomorrow begins ' slide down the moonbeams that glimmer and glow and follow the rainbows see where they both tickle toddle nickel- noddle tootle bell and shoe these are the magical words say when want wish come true tickle toddle nickel- noddle bam bam wish that there was circus town and was the star the show taming the lions one thing and right from their cage ' waving you both tickle toddle nickel- noddle tootle bell and shoe these are the magical words say and all wishes come true tickle toddle nickel- noddle tootle bell and shoe wonder where that girl yoo-hoo ' rockello darling mio amore wait wait fifty fittering fitter fifty fighty flim foos - - give anyway you know why ' here yes darling know brother mario ' - come here for the wedding how nice whose wedding ours well hope you' very happy ours let' - where get the licence sure after you dear hee hee hee hee ' - happy rockello rockello mario rockello ' - gone have you found him yet mario not yet little sister aha stop stop this- way roberta this far enough driver oui monsieur hey taxi taxi let' see paris rome that will million francs monsieur how much how about for free oui hey taxi wait for all right cabbie beat wait hold that cab wait panting -gentlemen please -help get outta here there' couple after who think ' somebody else ' rock slag doesn' recognize must have took too many knocks the head sure mister help you yeah yeah ' hide you permanently hee hee hee hee hee hee hee hee hee sure appreciate this fellas roberta rockello blast off fellas quick darling don' - worry follow here they come and they' gaing faster mario faster ' lose them the steps hang good they' still coming make fast left the next alley here' one hey fellas wait boy can' stop this thing - tour rome would great but this ridiculous help rockello here she comes brother what spot don' stop must that train they' gone now get back the hotel rome miles and told wilma ' back minutes boy how will ever explain this wilma hey bud who yeah you wanna buy some genuine italian leopard skin ties thanks have tie shaving lotion nail clippers hubcaps fountain pens gold watch don' need anything then how about something for the little lady like genuine imitation diamond necklace maybe diamond necklace are you sure ' real genuine imitation diamond necklace guarantee wow how much would you consider dollar and quarter ' yours for bits bud don' know this' square with wilma but ' worth try she' probably throw lamp the minute walk but here goes wilma look surprise spent all night shopping for well what you know she' asleep riiing fred morning wilma wha whe what time fred dear slept all night why didn' you wake you looked comfortable didn' have the heart sweetheart fred ruined your whole evening feel terrible perfectly all right honey think nothing you' wonderful ' fix some breakfast while you get dressed sweetheart boy that was close this spy job too much for gotta find the chief and quit look fred there' park across the street let' take the children there after breakfast good idea ' tell barney and betty about ' right back wilma now find triple can take the chief what luck here comes was just lookin for you triple gotta see the chief very important yeeow triple such master disguise could anyone excuse sonny even old lady triple right fresh baby cries hey trip take the chief will well ' not here ' take the elevator down the lobby flintstone chief how did you find secret headquarters secret elevator get here quick wanna talk you chief hold flintstone this room may bugged bugged nothing there chief ' quittin this job right now you can' quit not before you pick the green goose anybody can pick bird you don' need for that quiet beep beep beep beep how about that they had bed bugged all right flintstone see ' going have level with you what you mean mean the green goose not bird ' master criminal who plans take over the world why don' you arrest him one knows who what looks like but you can find out how through girl named tanya who thinks you' rock slag the minute she identifies the green goose ' grab him and your job done how about flintstone nothin doin too dangerous got family think pebbles future don' stop the green goose pebbles won' have future sorry chief you' have get somebody else look those children fred they' having the time their lives barney why not they got nothin worry about right fred huh said those kids got nothin worry about yeah yeah wonder someday ' gonna great doctor and cure every deadly disease you wait and see ' gonna help other children like when grown you' see know that some day will great things when are grown you' see know when ' grown and not small ' gonna great things you' see and show them all someday ' gonna great farmer and grow lots good things eat won' that neat one will ever hungry again not when ' grown not then know that some day will great things when are grown you' see know when ' grown and not small ' gonna great things you' see and show them all some day ' gonna great teacher and teach everybody read that' what need people who read aren' easy fool will teach them school know that some day will great things when are grown you' see someday you' see some day you' see someday ' gonna isn' wonderful the way kids get along together yeah adults could take lesson from them what now fred some sightseeing fred you hear what yeah yeah good idea you ahead and enjoy yourselves but aren' you coming with got some unfinished business take care long honey see you later ' acting strange wonder what' wrong knew you' change your mind flintstone you' - are you sure this the right girl absolutely you' having lunch with her papa piccolo' pizza palace here are flintstone let' inside there she tanya the girl who will lead the green goose' hideout rrr she' doll your job will simpler than thought flintstone rock slag has recovered and will here within hour all you have keep tanya here until arrives think you can ' cinch ' order everything the menu wait want you wear this recorder recorder yes wanna take down everything tanya says ' glad had beak sharpened tanya may real yacker this flower the microphone and remember keep her talking until the real rock slag takes over gotcha chief betty how exciting the famous papa piccolo' pizza palace let' and have some lunch poor fred ' shame isn' here fifty flying firefighters mmm bubala hello tanya rock slag last meet may sit down that wise should leave once plenty time let' have little talk first about you know who the green goose ' terrible man you know has secret weapon more powerful than any little louder please and speak into the flower how cute will wear hair allow get you fresh flower ' right back toodle- fred wilma what are you doing here and who are you waving - -waving who who' waving that ' just loose wrist thought you had some unfinished business take care well that finished took chance you might here here how nice well sit down fred yeah join the party huh yeah yeah will you excuse minute ' kinda drafty here ' close the window sorry couldn' find flower that' all right ' kinda drafty here ' close the window excuse what took you long dear was stuck mean the window was stuck well should order yeah good idea - excuse tanya what are you doing getting wrap must leave look -the orchestra' gettin ready play let' dance well maybe just once slow song starts ' sure like dance wonder where fred - what are you doing rock this business you can' too careful upbeat song starts ' fred didn' know you wanted dance honey wilma - you dance divinely darling you dear dear darling come tiger let' get out here tiger that' that' your unfinished business - look wilma can explain everything wish you would ' been going crazy down there trying record there' nothing explain ' all very obvious wilma please won' listen ' going home tiger hey flintstone rock slag' cab arriving get tanya you can switch with slag the lobby hurry taxi allow madame don' you get smart with fred flintstone see you your true colours you playboy how could you that the mother your child consider our friendship ended you playboy rock not again you powder your nose tanya ' wait for the lobby all set chief where' rock right there what happened must have had relapse look rock slag quick upstairs looks like you' going have carry the ball little longer flintstone gotta home and square myself with wilma time for that now just got this message listen green goose\\r secret weapon\\r \\r \\r \\r giant inter-rockinental missile our anti-missile missile not operational yet you see ' stop the green goose what you mean you with tanya the green goose' hideout ' phone triple and ' follow right behind you now just minute that wasn' the deal ' ready rock let' but but but but boy hello operator hello hello operator are you there crash hee hee hee hee hee hee hee hee right target bobo thanks ali now get rock slag time first must take message green goose good idea ali green goose will proud bwa here are rock the green goose' secret headquarters abandoned amusement park pretty clever rock now what follow follow chief wherever you are why you keep looking behind you just wanted make sure were being followed mean 'renotbeing followed heh heh heh the green goose there ' first and get behind him then when you come will drop this rope over him count before you break ' movin all right goose you' cooked slag nice you drop shall tie him that won' necessary ferocious wouldn' like slag tried leave would you ferocious growls hey what this what' goin tanya dear rock the green goose needs some information set this little trap for you surprised double cross huh well now have surprise for you chief come there you are barney yeah barney followed you here ' not leaving until get some information exactly what was saying hey who are you buster and why are you wearing this rrr ahem look goose this guy just friend mine why don' you let him come now slag you know that' impossible slag who' that that' ' explain later goose slag know your government has been working anti-missile missile want know they have completed don' know anything about goose ' advise you cooperate ' hate resort using unpleasant methods grrr unpleasant methods what' going this guy master criminal and ' helping the government capture him but don' worry our agents will bust any minute you don' scare goose what about your chubby friend - just rembered double parked outside ' right back ferocious grrr grrr grrr-grrr evil laughter goose not yet ferocious may need him tanya show them the torture chamber creak these are some toys but want you see latest one ' called anerocktric chair strap you and quite effective isn' -bout car left lights too can turn off take easy barn help will here any second you' get nothin out green goose knew would useless even try withyou slag but your chubby little friend another story isn' heh heh heh tanya the rack fred hey hey what are you doin barney perhaps when you see what happens your friend you' tell what want know yeow you can' intimidate with these crude methods ' intimi-nated yeow talk slag never barney yeow talk barney yeow don' worry barn all gotta stall him little longer lips are sealed goose barney yeow slag you' superhuman ' never met anyone like you zounds how much pain can man stand all you can dish out and more barney yeow don' worry barney can take you ain' takin you' gonna come outta this abig man and thin one too knock knock last ' about time was beginnin think you wouldn' show chief you' expecting chief boulder ' out out cold for the evening that' right and found this message him hmm green goose\\r secret weapon\\r \\r \\r \\r giant inter-rockinental missile our anti-missile missile not operational yet good work ali release the prisoner tanya have the information need lock those two and prepare launch missile nobody can stop now mwa that' the way was barney just because happen look like rock slag got the plane tickets money everything and also got you into this mess best friend well could worse fred least betty and wilma and the kids are yeah wonder ' ever see again hey slag chowtime hee hee hee hee hee hee hee hee boy food ' starved slurp fred barney don' eat that stuff couldn' wanted fred spoon looks like the green goose tryin get rid barney ' gotta get outta here and find that missile wonder where could enh heh heh heh heh heh heh the fun house hope our guests are enjoying their last moments this amusement park the perfect launching spot who would think that the space ride isreallya deadly missile one now let' prepare launch hey hey fred you sure you know what you' doin this tower feet high and you' got awful short tie don' worry ' make -easy fred howya doin barn you think you can jump the rest the way are you kiddin pull pull - -elp faster barney faster hurry barney hurry nice goin fred you nearly got killed what are you complain about that was best tie you ruined sorry fred guess never will get outta here hey barney look what the guards they' asleep and the key hangin the desk what good does that shh quiet sorry fred but how are gonna get the key whispering that' what gotta figure out hey would you mind speakin little louder can' hear word you' saying well whaddya know the tape recorder how would you like little favour what kind little favour nothin much you see that key what about just fly over there and bring back unh- ' recorder not retriever but you' got ' our only chance get outta here all right all right simmer down ' give try shh turn around whoops sorry slipped but don' worry ' get just put down and relax what' gonna fred beats recorder whoa ' hurt the old wing shot woe can' fly anymore never again zoom into the wild blue isn' that awful thing happen poor little grrr get ready here comes the pigeon grr come bird come open barney got got the key just hope the union never hears about this muffled yells hold barney that door might lead trap you better let check first fred ' barn come barney where are you let let take easy rock ' only triple boy glad see you where been what took you long where' the chief one question time please sorry here you dropped your hat and your hanky hey that' funny triple the green goose was wearin mask like this was what very clever disguise don' you think now may have back please you mean this your mask heh heh heh heh heh heh heh heh yes exactly boo-hoo hoo hoo hoo then you' you' the green goose and you' dead duck ali bobo over here you don' come back you never mind ' going fire the missile come hee hee hee hee hee hee hee hee hee boy big fireworks ali whole world boom hee hee hee hee hee hee hee hee hee the missile gotta stop wonder where barney maybe could -elp grr take easy ferocious can' sorta talk this over grr fred boy glad see you ferocious wasn' gonna wait till lunchtime come barney there' time lose green goose cackles this the big moment gentlemen first set the directional control then set the firing pin when the countdown reaches zero the blade will snap back cut the rope and the missile will take off goose you are genius you are right matter minutes the whole world will know power and alone shall rule supreme buzz ' got find that missile barney ' all now hey fred look the green goose hold barney ' crashin through stop them bobo right ahh slag meet again but too late for you stop run barney run head for the space ride barney can hide there ' locked press the button buzz inside quick green goose don' open that door our friends have trapped themselves the missile well longer need concern ourselves with them hey didya hear that fred yeah barney found the missile well well what can nothin save ourselves but can aim the missile into space where won' any harm least that' somethin boy payload interplanetary projectile what way they say all gotta sometime barn too bad ' never get the chance give wilma this present wow fred where' you get that barney must worth millions huh nah ' only worth ' only worthone million just think barney ' the richest guys space million slag heh heh heh ' make deal with you ' swap you your lives for that necklace your toes barn ' deal buzz hand out here you are crash thud yii ali bobo tanya help buzz let let out let out help well that' what always happens guys who want take over the world yeah heh heh heh they end out and with great pride the citizens bedrock present you with this medal cheering signal beeping announcer after week parties parades and speeches public hero fred flintstone has slipped away for well-earned rest only clue his whereabouts note saying gone fishing feels good relax yeah ' been one parade after another fred big hero ' proud you hee hee forget the hero stuff forget everything that happened eurock from now just fred flintstone average citizen besides barney deserves much credit yeah yeah deserve much credit fred well now wait minute barn was the one that girls laugh now cut out cut out hey come fred last one down the lake pickled pterodactyl hey yabba dabba here pal rockello hey paesano roberta mario gangway after him quick wilma help rockello hey paesano wait rockello paesano what' going don' know but have feeling that fred isn' going forget his trip eurock hurry help help somebody something rockello come- back hey come back here peasan help help ' gonna get- married mario and- nice- honeymoon sobbing help help help rockello wilma who they call when the chips are startin fall just when the villains are wailin the troubles beginnin brew the man called flintstone that' who who the man who seems more than merely man who chases characters shady while every lady melts the man called flintstone who else who else who else\""
      ]
     },
     "execution_count": 31,
     "metadata": {},
     "output_type": "execute_result"
    }
   ],
   "source": [
    "film_name = 'The.Man.Called.Flintstone.1966.1080p.WEB-DL.DD+2.0.H.264-DAWN'\n",
    "prepare_subtitles(film_name, clean=True)"
   ]
  },
  {
   "cell_type": "markdown",
   "id": "6ecdf5ca",
   "metadata": {},
   "source": [
    "Корректировка Level\n",
    "\n",
    "Для фильмов с несколькими категориями нужно оставить одну (самую высокую).\n",
    "Заменить категории с плюсом на обычные, поскольку плюсовых категорий в CEFR нет."
   ]
  },
  {
   "cell_type": "code",
   "execution_count": 32,
   "id": "a7a859f3",
   "metadata": {},
   "outputs": [],
   "source": [
    "data.Level = data.Level.apply(lambda Level: Level.replace('+', '')[-2:])"
   ]
  },
  {
   "cell_type": "code",
   "execution_count": 34,
   "id": "056d064c",
   "metadata": {},
   "outputs": [],
   "source": [
    "data.to_csv(f'/Users/keybl/Desktop/EDA_movies_subtitles.csv', index=False)"
   ]
  },
  {
   "cell_type": "markdown",
   "id": "62d87155",
   "metadata": {},
   "source": [
    "Предобработку субтитров можно/нужно добавить в пайплайн модели.\n",
    "\n",
    "Если не используются новые сгенерированные признаки, модель работает на новых данных и без предварительной обработки."
   ]
  },
  {
   "cell_type": "code",
   "execution_count": 35,
   "id": "e4e7d310",
   "metadata": {},
   "outputs": [
    {
     "name": "stdout",
     "output_type": "stream",
     "text": [
      "<class 'pandas.core.frame.DataFrame'>\n",
      "Int64Index: 514 entries, 0 to 515\n",
      "Data columns (total 3 columns):\n",
      " #   Column     Non-Null Count  Dtype \n",
      "---  ------     --------------  ----- \n",
      " 0   Movie      514 non-null    object\n",
      " 1   Level      514 non-null    object\n",
      " 2   Subtitles  514 non-null    object\n",
      "dtypes: object(3)\n",
      "memory usage: 16.1+ KB\n"
     ]
    }
   ],
   "source": [
    "data.info()"
   ]
  },
  {
   "cell_type": "code",
   "execution_count": 36,
   "id": "83f6855b",
   "metadata": {},
   "outputs": [
    {
     "data": {
      "text/html": [
       "<div>\n",
       "<style scoped>\n",
       "    .dataframe tbody tr th:only-of-type {\n",
       "        vertical-align: middle;\n",
       "    }\n",
       "\n",
       "    .dataframe tbody tr th {\n",
       "        vertical-align: top;\n",
       "    }\n",
       "\n",
       "    .dataframe thead th {\n",
       "        text-align: right;\n",
       "    }\n",
       "</style>\n",
       "<table border=\"1\" class=\"dataframe\">\n",
       "  <thead>\n",
       "    <tr style=\"text-align: left;\">\n",
       "      <th></th>\n",
       "      <th>Movie</th>\n",
       "      <th>Level</th>\n",
       "      <th>Subtitles</th>\n",
       "    </tr>\n",
       "  </thead>\n",
       "  <tbody>\n",
       "    <tr>\n",
       "      <th>302</th>\n",
       "      <td>The.Hollow.S02E09.Fire.720p.NF.WEB-DL.DDP5.1.H.264-NTb</td>\n",
       "      <td>A2</td>\n",
       "      <td>what are you looking ' looking for the perfect target bingo then ' huff and ' puff and ' blow yo...</td>\n",
       "    </tr>\n",
       "    <tr>\n",
       "      <th>128</th>\n",
       "      <td>Seven.Worlds.One.Planet.S01E06.2160p.BluRay.Remux.eng</td>\n",
       "      <td>B1</td>\n",
       "      <td>one continent our planet changes more dramatically than any other north america whole landscapes...</td>\n",
       "    </tr>\n",
       "    <tr>\n",
       "      <th>142</th>\n",
       "      <td>Crazy4TV.com - Suits.S06E08.720p.BluRay.x265.HEVC.Crazy4ad</td>\n",
       "      <td>B2</td>\n",
       "      <td>harvey reading your execution date has been set when thirty days you said you were gonna find ma...</td>\n",
       "    </tr>\n",
       "    <tr>\n",
       "      <th>161</th>\n",
       "      <td>Suits.Episode 15- Tick Tock</td>\n",
       "      <td>B2</td>\n",
       "      <td>previously suits don' owe harvey shit may have gotten out but done came and put there the first ...</td>\n",
       "    </tr>\n",
       "    <tr>\n",
       "      <th>251</th>\n",
       "      <td>13.Reasons.Why.S01E11.720p.WEBRiP.x265.ShAaNiG</td>\n",
       "      <td>A2</td>\n",
       "      <td>sync and corrections www addic com hannah ' told you about two the worst decisions ever made and...</td>\n",
       "    </tr>\n",
       "  </tbody>\n",
       "</table>\n",
       "</div>"
      ],
      "text/plain": [
       "    Movie                                                       Level  \\\n",
       "302      The.Hollow.S02E09.Fire.720p.NF.WEB-DL.DDP5.1.H.264-NTb  A2     \n",
       "128       Seven.Worlds.One.Planet.S01E06.2160p.BluRay.Remux.eng  B1     \n",
       "142  Crazy4TV.com - Suits.S06E08.720p.BluRay.x265.HEVC.Crazy4ad  B2     \n",
       "161                                 Suits.Episode 15- Tick Tock  B2     \n",
       "251              13.Reasons.Why.S01E11.720p.WEBRiP.x265.ShAaNiG  A2     \n",
       "\n",
       "    Subtitles                                                                                             \n",
       "302  what are you looking ' looking for the perfect target bingo then ' huff and ' puff and ' blow yo...  \n",
       "128  one continent our planet changes more dramatically than any other north america whole landscapes...  \n",
       "142  harvey reading your execution date has been set when thirty days you said you were gonna find ma...  \n",
       "161  previously suits don' owe harvey shit may have gotten out but done came and put there the first ...  \n",
       "251  sync and corrections www addic com hannah ' told you about two the worst decisions ever made and...  "
      ]
     },
     "execution_count": 36,
     "metadata": {},
     "output_type": "execute_result"
    }
   ],
   "source": [
    "data.sample(5)"
   ]
  },
  {
   "cell_type": "markdown",
   "id": "cec9c047",
   "metadata": {},
   "source": [
    "Употребление слов в субтитрах из словаря Oxford\n",
    "\n",
    "Будет исследовано распределение слов разных уровней в фильмах разных уровней.\n",
    "\n",
    "Будет учтено как общее количество употреблений слова (даже если оно повторяется неоднократно), так и распределение уникальныхх слов (каждое слово будет учтено только один раз).\n",
    "\n",
    "Идеальным резултатом будет выраженная зависимость между словами и фильмамит определенного уровня."
   ]
  },
  {
   "cell_type": "code",
   "execution_count": 38,
   "id": "fc35306c",
   "metadata": {
    "scrolled": true
   },
   "outputs": [],
   "source": [
    "data_words = oxford_words"
   ]
  },
  {
   "cell_type": "code",
   "execution_count": 41,
   "id": "578a3db5",
   "metadata": {},
   "outputs": [
    {
     "name": "stdout",
     "output_type": "stream",
     "text": [
      "<class 'pandas.core.frame.DataFrame'>\n",
      "Int64Index: 4884 entries, 887 to 1432\n",
      "Data columns (total 4 columns):\n",
      " #   Column  Non-Null Count  Dtype \n",
      "---  ------  --------------  ----- \n",
      " 0   word    4884 non-null   object\n",
      " 1   level   4884 non-null   object\n",
      " 2   source  4884 non-null   object\n",
      " 3   type    4884 non-null   object\n",
      "dtypes: object(4)\n",
      "memory usage: 190.8+ KB\n"
     ]
    }
   ],
   "source": [
    "data_words.info()"
   ]
  },
  {
   "cell_type": "code",
   "execution_count": 42,
   "id": "fcd12c9a",
   "metadata": {},
   "outputs": [
    {
     "data": {
      "text/plain": [
       "level\n",
       "A1    [a, about, above, across, action, activity, actor, actress, add, advice, afraid, afternoon, agai...\n",
       "A2    [ability, able, accept, accident, according, achieve, active, actually, adult, advantage, advent...\n",
       "B1    [absolutely, access, achievement, act, ad, addition, admire, admit, advanced, advise, afford, ag...\n",
       "B2    [abandon, abroad, absolute, absorb, abstract, academic, accent, acceptable, accidentally, accomm...\n",
       "C1    [abolish, abortion, absence, absent, absurd, abundance, abuse, academy, accelerate, acceptance, ...\n",
       "Name: word, dtype: object"
      ]
     },
     "execution_count": 42,
     "metadata": {},
     "output_type": "execute_result"
    }
   ],
   "source": [
    "# группировка слов по уровням и преобразование в списки\n",
    "\n",
    "series_oxford = data_words.groupby('level').word.agg(list)\n",
    "series_oxford"
   ]
  },
  {
   "cell_type": "code",
   "execution_count": 43,
   "id": "439154a2",
   "metadata": {},
   "outputs": [],
   "source": [
    "# преобразование текста с обработанными субтитрами в список, где каждый элемент – слово\n",
    "\n",
    "data['subs_words'] = data.Subtitles.apply(lambda x: x.split())"
   ]
  },
  {
   "cell_type": "code",
   "execution_count": 44,
   "id": "6fd6c276",
   "metadata": {},
   "outputs": [],
   "source": [
    "def oxford_count(df, level):\n",
    "    '''\n",
    "    df: датафрейм для обработки\n",
    "    level: уровень, соответствующий \"American Oxford by CEFR level\"\n",
    "    \n",
    "    Добавляет в датафрейм:\n",
    "        поле вида 'level_sum' с количеством употреблений слов соответствующего уровня;\n",
    "        поле вида 'level_unq' с количеством уникальных слов соответствующего уровня.\n",
    "    '''\n",
    "    \n",
    "    subs = df['subs_words']\n",
    "    oxford = series_oxford[level]\n",
    "    \n",
    "    df[f'{level}_sum'] = df['subs_words'].apply(lambda subs: sum(i in oxford for i in subs))\n",
    "    df[f'{level}_unq'] = df['subs_words'].apply(lambda subs: sum(i in subs for i in oxford))\n",
    "    \n",
    "    return df"
   ]
  },
  {
   "cell_type": "code",
   "execution_count": 46,
   "id": "61165eb8",
   "metadata": {},
   "outputs": [],
   "source": [
    "import re\n",
    "from tqdm import tqdm"
   ]
  },
  {
   "cell_type": "code",
   "execution_count": 47,
   "id": "442da1b8",
   "metadata": {},
   "outputs": [
    {
     "name": "stderr",
     "output_type": "stream",
     "text": [
      "100%|█████████████████████████████████████████████| 5/5 [02:50<00:00, 34.17s/it]\n"
     ]
    }
   ],
   "source": [
    "# список всех уровней CEFR, имеющихся в списке фильмов\n",
    "level_list = sorted(list(data.Level.unique()))\n",
    "\n",
    "\n",
    "# для каждого возможного уровня добавить в датафрейм:\n",
    "# количество употреблений слов соответствующего уровня и\n",
    "# количество уникальных слов соответствующего уровня\n",
    "\n",
    "for level in tqdm(level_list):\n",
    "    data = oxford_count(data, level)"
   ]
  },
  {
   "cell_type": "code",
   "execution_count": 49,
   "id": "32af5006",
   "metadata": {},
   "outputs": [],
   "source": [
    "# общее количество употреблений слов и уникальных слов всех уровней\n",
    "\n",
    "data['TOTAL_sum'] = 0\n",
    "data['TOTAL_unq'] = 0\n",
    "\n",
    "for level in level_list:\n",
    "    data['TOTAL_sum'] += data[f'{level}_sum']\n",
    "    data['TOTAL_unq'] += data[f'{level}_unq']\n",
    "\n",
    "\n",
    "# подсчет доли разных уровней для употреблений слов и уникальных слов\n",
    "\n",
    "for level in level_list:\n",
    "    data[f'{level}_sum_%'] = data[f'{level}_sum'] / data['TOTAL_sum']\n",
    "    data[f'{level}_unq_%'] = data[f'{level}_unq'] / data['TOTAL_unq']"
   ]
  },
  {
   "cell_type": "code",
   "execution_count": 50,
   "id": "4d9f8138",
   "metadata": {},
   "outputs": [],
   "source": [
    "# удаление ненужных полей\n",
    "\n",
    "data = data.drop(['subs_words','TOTAL_sum','TOTAL_unq'], axis=1)\n",
    "\n",
    "for level in level_list:\n",
    "    data = data.drop(f'{level}_sum', axis=1)     # количество употреблений слов определенного уровня\n",
    "    data = data.drop(f'{level}_unq', axis=1)     # количество уникальных слов определенного уровня    "
   ]
  },
  {
   "cell_type": "code",
   "execution_count": 51,
   "id": "bfad69f9",
   "metadata": {},
   "outputs": [
    {
     "data": {
      "text/html": [
       "<div>\n",
       "<style scoped>\n",
       "    .dataframe tbody tr th:only-of-type {\n",
       "        vertical-align: middle;\n",
       "    }\n",
       "\n",
       "    .dataframe tbody tr th {\n",
       "        vertical-align: top;\n",
       "    }\n",
       "\n",
       "    .dataframe thead th {\n",
       "        text-align: right;\n",
       "    }\n",
       "</style>\n",
       "<table border=\"1\" class=\"dataframe\">\n",
       "  <thead>\n",
       "    <tr style=\"text-align: left;\">\n",
       "      <th></th>\n",
       "      <th>A1_sum_%</th>\n",
       "      <th>A1_unq_%</th>\n",
       "      <th>A2_sum_%</th>\n",
       "      <th>A2_unq_%</th>\n",
       "      <th>B1_sum_%</th>\n",
       "      <th>B1_unq_%</th>\n",
       "      <th>B2_sum_%</th>\n",
       "      <th>B2_unq_%</th>\n",
       "      <th>C1_sum_%</th>\n",
       "      <th>C1_unq_%</th>\n",
       "    </tr>\n",
       "    <tr>\n",
       "      <th>Level</th>\n",
       "      <th></th>\n",
       "      <th></th>\n",
       "      <th></th>\n",
       "      <th></th>\n",
       "      <th></th>\n",
       "      <th></th>\n",
       "      <th></th>\n",
       "      <th></th>\n",
       "      <th></th>\n",
       "      <th></th>\n",
       "    </tr>\n",
       "  </thead>\n",
       "  <tbody>\n",
       "    <tr>\n",
       "      <th>A1</th>\n",
       "      <td>0.669</td>\n",
       "      <td>0.585</td>\n",
       "      <td>0.141</td>\n",
       "      <td>0.189</td>\n",
       "      <td>0.104</td>\n",
       "      <td>0.113</td>\n",
       "      <td>0.058</td>\n",
       "      <td>0.085</td>\n",
       "      <td>0.027</td>\n",
       "      <td>0.028</td>\n",
       "    </tr>\n",
       "    <tr>\n",
       "      <th>A2</th>\n",
       "      <td>0.614</td>\n",
       "      <td>0.444</td>\n",
       "      <td>0.153</td>\n",
       "      <td>0.229</td>\n",
       "      <td>0.115</td>\n",
       "      <td>0.142</td>\n",
       "      <td>0.081</td>\n",
       "      <td>0.141</td>\n",
       "      <td>0.036</td>\n",
       "      <td>0.044</td>\n",
       "    </tr>\n",
       "    <tr>\n",
       "      <th>B1</th>\n",
       "      <td>0.616</td>\n",
       "      <td>0.404</td>\n",
       "      <td>0.151</td>\n",
       "      <td>0.229</td>\n",
       "      <td>0.115</td>\n",
       "      <td>0.155</td>\n",
       "      <td>0.083</td>\n",
       "      <td>0.161</td>\n",
       "      <td>0.034</td>\n",
       "      <td>0.051</td>\n",
       "    </tr>\n",
       "    <tr>\n",
       "      <th>B2</th>\n",
       "      <td>0.622</td>\n",
       "      <td>0.397</td>\n",
       "      <td>0.143</td>\n",
       "      <td>0.226</td>\n",
       "      <td>0.118</td>\n",
       "      <td>0.157</td>\n",
       "      <td>0.083</td>\n",
       "      <td>0.165</td>\n",
       "      <td>0.034</td>\n",
       "      <td>0.055</td>\n",
       "    </tr>\n",
       "    <tr>\n",
       "      <th>C1</th>\n",
       "      <td>0.619</td>\n",
       "      <td>0.390</td>\n",
       "      <td>0.147</td>\n",
       "      <td>0.226</td>\n",
       "      <td>0.116</td>\n",
       "      <td>0.161</td>\n",
       "      <td>0.083</td>\n",
       "      <td>0.167</td>\n",
       "      <td>0.035</td>\n",
       "      <td>0.055</td>\n",
       "    </tr>\n",
       "  </tbody>\n",
       "</table>\n",
       "</div>"
      ],
      "text/plain": [
       "       A1_sum_%  A1_unq_%  A2_sum_%  A2_unq_%  B1_sum_%  B1_unq_%  B2_sum_%  \\\n",
       "Level                                                                         \n",
       "A1    0.669     0.585     0.141     0.189     0.104     0.113     0.058       \n",
       "A2    0.614     0.444     0.153     0.229     0.115     0.142     0.081       \n",
       "B1    0.616     0.404     0.151     0.229     0.115     0.155     0.083       \n",
       "B2    0.622     0.397     0.143     0.226     0.118     0.157     0.083       \n",
       "C1    0.619     0.390     0.147     0.226     0.116     0.161     0.083       \n",
       "\n",
       "       B2_unq_%  C1_sum_%  C1_unq_%  \n",
       "Level                                \n",
       "A1    0.085     0.027     0.028      \n",
       "A2    0.141     0.036     0.044      \n",
       "B1    0.161     0.034     0.051      \n",
       "B2    0.165     0.034     0.055      \n",
       "C1    0.167     0.035     0.055      "
      ]
     },
     "execution_count": 51,
     "metadata": {},
     "output_type": "execute_result"
    }
   ],
   "source": [
    "# сводная таблица для оценки доли употреблений слов и уникальных слов разных уровней\n",
    "# в зависимости от уровня фильма, установленного экспертом\n",
    "\n",
    "data.groupby('Level').mean()"
   ]
  },
  {
   "cell_type": "markdown",
   "id": "8a901a74",
   "metadata": {},
   "source": [
    "Пояснение к названиям столбцов:\n",
    "A1_sum_% – доля употребленных слов уровня A1 среди всех слов с известным уровнем.\n",
    "A1_unq_% – доля уникальных слов уровня A1 среди всех слов с известным уровнем.\n",
    "Аналогично и для других уровней.\n",
    "\n",
    "Если в полученной таблице изучить столбцы сверху вниз, то видно, что сколько либо заметно отличается только уровень A1, как для уникальных слов из словаря Oxford, так и для общего количества их употреблений.\n",
    "Для остальных уровней доля слов разных уровней примерно одинакова."
   ]
  },
  {
   "cell_type": "code",
   "execution_count": 53,
   "id": "4f41e6c9",
   "metadata": {},
   "outputs": [],
   "source": [
    "#data.to_csv(f'/Users/keybl/Desktop/EDA_movies_subtitles.csv', index=False)"
   ]
  },
  {
   "cell_type": "code",
   "execution_count": 54,
   "id": "64187d3b",
   "metadata": {},
   "outputs": [
    {
     "name": "stdout",
     "output_type": "stream",
     "text": [
      "<class 'pandas.core.frame.DataFrame'>\n",
      "Int64Index: 514 entries, 0 to 515\n",
      "Data columns (total 13 columns):\n",
      " #   Column     Non-Null Count  Dtype  \n",
      "---  ------     --------------  -----  \n",
      " 0   Movie      514 non-null    object \n",
      " 1   Level      514 non-null    object \n",
      " 2   Subtitles  514 non-null    object \n",
      " 3   A1_sum_%   514 non-null    float64\n",
      " 4   A1_unq_%   514 non-null    float64\n",
      " 5   A2_sum_%   514 non-null    float64\n",
      " 6   A2_unq_%   514 non-null    float64\n",
      " 7   B1_sum_%   514 non-null    float64\n",
      " 8   B1_unq_%   514 non-null    float64\n",
      " 9   B2_sum_%   514 non-null    float64\n",
      " 10  B2_unq_%   514 non-null    float64\n",
      " 11  C1_sum_%   514 non-null    float64\n",
      " 12  C1_unq_%   514 non-null    float64\n",
      "dtypes: float64(10), object(3)\n",
      "memory usage: 56.2+ KB\n"
     ]
    }
   ],
   "source": [
    "data.info()"
   ]
  },
  {
   "cell_type": "code",
   "execution_count": 55,
   "id": "b20fd750",
   "metadata": {},
   "outputs": [
    {
     "data": {
      "text/html": [
       "<div>\n",
       "<style scoped>\n",
       "    .dataframe tbody tr th:only-of-type {\n",
       "        vertical-align: middle;\n",
       "    }\n",
       "\n",
       "    .dataframe tbody tr th {\n",
       "        vertical-align: top;\n",
       "    }\n",
       "\n",
       "    .dataframe thead th {\n",
       "        text-align: right;\n",
       "    }\n",
       "</style>\n",
       "<table border=\"1\" class=\"dataframe\">\n",
       "  <thead>\n",
       "    <tr style=\"text-align: left;\">\n",
       "      <th></th>\n",
       "      <th>Movie</th>\n",
       "      <th>Level</th>\n",
       "      <th>Subtitles</th>\n",
       "      <th>A1_sum_%</th>\n",
       "      <th>A1_unq_%</th>\n",
       "      <th>A2_sum_%</th>\n",
       "      <th>A2_unq_%</th>\n",
       "      <th>B1_sum_%</th>\n",
       "      <th>B1_unq_%</th>\n",
       "      <th>B2_sum_%</th>\n",
       "      <th>B2_unq_%</th>\n",
       "      <th>C1_sum_%</th>\n",
       "      <th>C1_unq_%</th>\n",
       "    </tr>\n",
       "  </thead>\n",
       "  <tbody>\n",
       "    <tr>\n",
       "      <th>162</th>\n",
       "      <td>Suits.Episode 16- 25th Hour</td>\n",
       "      <td>B2</td>\n",
       "      <td>previously suits has ruined clifford' life and you had been our lawyer never would have been con...</td>\n",
       "      <td>0.633</td>\n",
       "      <td>0.402</td>\n",
       "      <td>0.135</td>\n",
       "      <td>0.242</td>\n",
       "      <td>0.122</td>\n",
       "      <td>0.148</td>\n",
       "      <td>0.082</td>\n",
       "      <td>0.161</td>\n",
       "      <td>0.028</td>\n",
       "      <td>0.048</td>\n",
       "    </tr>\n",
       "    <tr>\n",
       "      <th>310</th>\n",
       "      <td>The.Umbrella.Academy.S01E07.WEBRip.x264-ION10</td>\n",
       "      <td>A2</td>\n",
       "      <td>the seventh hour the first day october woman went into labor jenkins meet your son this was unus...</td>\n",
       "      <td>0.623</td>\n",
       "      <td>0.442</td>\n",
       "      <td>0.141</td>\n",
       "      <td>0.223</td>\n",
       "      <td>0.107</td>\n",
       "      <td>0.136</td>\n",
       "      <td>0.085</td>\n",
       "      <td>0.154</td>\n",
       "      <td>0.044</td>\n",
       "      <td>0.046</td>\n",
       "    </tr>\n",
       "    <tr>\n",
       "      <th>323</th>\n",
       "      <td>The.Umbrella.Academy.S02E10.WEBRip.Netflix.en</td>\n",
       "      <td>A2</td>\n",
       "      <td>your father ready give the eulogy children the world full injustice good people die along with t...</td>\n",
       "      <td>0.617</td>\n",
       "      <td>0.397</td>\n",
       "      <td>0.153</td>\n",
       "      <td>0.257</td>\n",
       "      <td>0.110</td>\n",
       "      <td>0.124</td>\n",
       "      <td>0.091</td>\n",
       "      <td>0.169</td>\n",
       "      <td>0.029</td>\n",
       "      <td>0.054</td>\n",
       "    </tr>\n",
       "    <tr>\n",
       "      <th>385</th>\n",
       "      <td>17_Extra_English_-_Cyber_Stress.Eng_Syned</td>\n",
       "      <td>A1</td>\n",
       "      <td>this the story bridget and annie who share flat london and the boys next door nick and his frien...</td>\n",
       "      <td>0.684</td>\n",
       "      <td>0.606</td>\n",
       "      <td>0.109</td>\n",
       "      <td>0.158</td>\n",
       "      <td>0.106</td>\n",
       "      <td>0.118</td>\n",
       "      <td>0.072</td>\n",
       "      <td>0.089</td>\n",
       "      <td>0.029</td>\n",
       "      <td>0.030</td>\n",
       "    </tr>\n",
       "    <tr>\n",
       "      <th>22</th>\n",
       "      <td>Cinderella(1950)</td>\n",
       "      <td>B1</td>\n",
       "      <td>cinderella you' lovely your name cinderella you' sunset frame though you' dressed rags you wear ...</td>\n",
       "      <td>0.597</td>\n",
       "      <td>0.424</td>\n",
       "      <td>0.156</td>\n",
       "      <td>0.223</td>\n",
       "      <td>0.125</td>\n",
       "      <td>0.159</td>\n",
       "      <td>0.078</td>\n",
       "      <td>0.147</td>\n",
       "      <td>0.044</td>\n",
       "      <td>0.047</td>\n",
       "    </tr>\n",
       "  </tbody>\n",
       "</table>\n",
       "</div>"
      ],
      "text/plain": [
       "    Movie                                          Level  \\\n",
       "162                    Suits.Episode 16- 25th Hour  B2     \n",
       "310  The.Umbrella.Academy.S01E07.WEBRip.x264-ION10  A2     \n",
       "323  The.Umbrella.Academy.S02E10.WEBRip.Netflix.en  A2     \n",
       "385      17_Extra_English_-_Cyber_Stress.Eng_Syned  A1     \n",
       "22                                Cinderella(1950)  B1     \n",
       "\n",
       "    Subtitles                                                                                             \\\n",
       "162  previously suits has ruined clifford' life and you had been our lawyer never would have been con...   \n",
       "310  the seventh hour the first day october woman went into labor jenkins meet your son this was unus...   \n",
       "323  your father ready give the eulogy children the world full injustice good people die along with t...   \n",
       "385  this the story bridget and annie who share flat london and the boys next door nick and his frien...   \n",
       "22   cinderella you' lovely your name cinderella you' sunset frame though you' dressed rags you wear ...   \n",
       "\n",
       "     A1_sum_%  A1_unq_%  A2_sum_%  A2_unq_%  B1_sum_%  B1_unq_%  B2_sum_%  \\\n",
       "162 0.633     0.402     0.135     0.242     0.122     0.148     0.082       \n",
       "310 0.623     0.442     0.141     0.223     0.107     0.136     0.085       \n",
       "323 0.617     0.397     0.153     0.257     0.110     0.124     0.091       \n",
       "385 0.684     0.606     0.109     0.158     0.106     0.118     0.072       \n",
       "22  0.597     0.424     0.156     0.223     0.125     0.159     0.078       \n",
       "\n",
       "     B2_unq_%  C1_sum_%  C1_unq_%  \n",
       "162 0.161     0.028     0.048      \n",
       "310 0.154     0.044     0.046      \n",
       "323 0.169     0.029     0.054      \n",
       "385 0.089     0.029     0.030      \n",
       "22  0.147     0.044     0.047      "
      ]
     },
     "execution_count": 55,
     "metadata": {},
     "output_type": "execute_result"
    }
   ],
   "source": [
    "data.sample(5)"
   ]
  }
 ],
 "metadata": {
  "kernelspec": {
   "display_name": "Python 3 (ipykernel)",
   "language": "python",
   "name": "python3"
  },
  "language_info": {
   "codemirror_mode": {
    "name": "ipython",
    "version": 3
   },
   "file_extension": ".py",
   "mimetype": "text/x-python",
   "name": "python",
   "nbconvert_exporter": "python",
   "pygments_lexer": "ipython3",
   "version": "3.10.9"
  }
 },
 "nbformat": 4,
 "nbformat_minor": 5
}
