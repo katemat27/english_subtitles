{
 "cells": [
  {
   "cell_type": "code",
   "execution_count": 3,
   "id": "0151f746",
   "metadata": {},
   "outputs": [],
   "source": [
    "# basic\n",
    "import pandas as pd\n",
    "pd.options.mode.chained_assignment = None\n",
    "import numpy as np\n",
    "import seaborn as sns\n",
    "from IPython.display import Image\n",
    "import matplotlib.pyplot as plt\n",
    "\n",
    "# metrics\n",
    "from sklearn.metrics import accuracy_score\n",
    "from sklearn.metrics import roc_auc_score\n",
    "from sklearn.metrics import precision_score\n",
    "from sklearn.metrics import recall_score\n",
    "from sklearn.metrics import confusion_matrix\n",
    "from sklearn.metrics import roc_curve\n",
    "from sklearn.metrics import r2_score\n",
    "from sklearn.metrics import f1_score\n",
    "\n",
    "# preprocessing\n",
    "from sklearn.preprocessing import StandardScaler\n",
    "from sklearn.utils import shuffle\n",
    "\n",
    "# modelling\n",
    "from sklearn.ensemble import RandomForestClassifier\n",
    "from sklearn.ensemble import RandomForestRegressor\n",
    "from sklearn.linear_model import LogisticRegression\n",
    "from sklearn.linear_model import LinearRegression\n",
    "from sklearn.model_selection import train_test_split\n",
    "from sklearn.model_selection import cross_val_score\n",
    "from sklearn.model_selection import StratifiedKFold\n",
    "from sklearn.model_selection import KFold\n",
    "from sklearn.model_selection import GridSearchCV\n",
    "\n",
    "%matplotlib inline\n",
    "random_state_var = 101\n",
    "\n",
    "from sklearn.metrics import mean_squared_error\n"
   ]
  },
  {
   "cell_type": "markdown",
   "id": "d5c3bb75",
   "metadata": {},
   "source": [
    "## Предобработка данных"
   ]
  },
  {
   "cell_type": "code",
   "execution_count": 4,
   "id": "8fc83410",
   "metadata": {},
   "outputs": [],
   "source": [
    "df_train = pd.read_csv('train.csv')"
   ]
  },
  {
   "cell_type": "code",
   "execution_count": 5,
   "id": "5fdc1447",
   "metadata": {},
   "outputs": [],
   "source": [
    "df_test = pd.read_csv('test.csv')"
   ]
  },
  {
   "cell_type": "code",
   "execution_count": 6,
   "id": "6a684abd",
   "metadata": {
    "scrolled": true
   },
   "outputs": [
    {
     "data": {
      "text/html": [
       "<div>\n",
       "<style scoped>\n",
       "    .dataframe tbody tr th:only-of-type {\n",
       "        vertical-align: middle;\n",
       "    }\n",
       "\n",
       "    .dataframe tbody tr th {\n",
       "        vertical-align: top;\n",
       "    }\n",
       "\n",
       "    .dataframe thead th {\n",
       "        text-align: right;\n",
       "    }\n",
       "</style>\n",
       "<table border=\"1\" class=\"dataframe\">\n",
       "  <thead>\n",
       "    <tr style=\"text-align: right;\">\n",
       "      <th></th>\n",
       "      <th>id</th>\n",
       "      <th>age</th>\n",
       "      <th>gender</th>\n",
       "      <th>height</th>\n",
       "      <th>weight</th>\n",
       "      <th>ap_hi</th>\n",
       "      <th>ap_lo</th>\n",
       "      <th>cholesterol</th>\n",
       "      <th>gluc</th>\n",
       "      <th>smoke</th>\n",
       "      <th>alco</th>\n",
       "      <th>active</th>\n",
       "      <th>cardio</th>\n",
       "    </tr>\n",
       "  </thead>\n",
       "  <tbody>\n",
       "    <tr>\n",
       "      <th>0</th>\n",
       "      <td>0</td>\n",
       "      <td>18393</td>\n",
       "      <td>2</td>\n",
       "      <td>168</td>\n",
       "      <td>62.0</td>\n",
       "      <td>110</td>\n",
       "      <td>80</td>\n",
       "      <td>1</td>\n",
       "      <td>1</td>\n",
       "      <td>0</td>\n",
       "      <td>0</td>\n",
       "      <td>1</td>\n",
       "      <td>0</td>\n",
       "    </tr>\n",
       "    <tr>\n",
       "      <th>1</th>\n",
       "      <td>1</td>\n",
       "      <td>20228</td>\n",
       "      <td>1</td>\n",
       "      <td>156</td>\n",
       "      <td>85.0</td>\n",
       "      <td>140</td>\n",
       "      <td>90</td>\n",
       "      <td>3</td>\n",
       "      <td>1</td>\n",
       "      <td>0</td>\n",
       "      <td>0</td>\n",
       "      <td>1</td>\n",
       "      <td>1</td>\n",
       "    </tr>\n",
       "    <tr>\n",
       "      <th>2</th>\n",
       "      <td>2</td>\n",
       "      <td>18857</td>\n",
       "      <td>1</td>\n",
       "      <td>165</td>\n",
       "      <td>64.0</td>\n",
       "      <td>130</td>\n",
       "      <td>70</td>\n",
       "      <td>3</td>\n",
       "      <td>1</td>\n",
       "      <td>0</td>\n",
       "      <td>0</td>\n",
       "      <td>0</td>\n",
       "      <td>1</td>\n",
       "    </tr>\n",
       "    <tr>\n",
       "      <th>3</th>\n",
       "      <td>3</td>\n",
       "      <td>17623</td>\n",
       "      <td>2</td>\n",
       "      <td>169</td>\n",
       "      <td>82.0</td>\n",
       "      <td>150</td>\n",
       "      <td>100</td>\n",
       "      <td>1</td>\n",
       "      <td>1</td>\n",
       "      <td>0</td>\n",
       "      <td>0</td>\n",
       "      <td>1</td>\n",
       "      <td>1</td>\n",
       "    </tr>\n",
       "    <tr>\n",
       "      <th>4</th>\n",
       "      <td>4</td>\n",
       "      <td>17474</td>\n",
       "      <td>1</td>\n",
       "      <td>156</td>\n",
       "      <td>56.0</td>\n",
       "      <td>100</td>\n",
       "      <td>60</td>\n",
       "      <td>1</td>\n",
       "      <td>1</td>\n",
       "      <td>0</td>\n",
       "      <td>0</td>\n",
       "      <td>0</td>\n",
       "      <td>0</td>\n",
       "    </tr>\n",
       "  </tbody>\n",
       "</table>\n",
       "</div>"
      ],
      "text/plain": [
       "   id    age  gender  height  weight  ap_hi  ap_lo  cholesterol  gluc  smoke  \\\n",
       "0   0  18393       2     168    62.0    110     80            1     1      0   \n",
       "1   1  20228       1     156    85.0    140     90            3     1      0   \n",
       "2   2  18857       1     165    64.0    130     70            3     1      0   \n",
       "3   3  17623       2     169    82.0    150    100            1     1      0   \n",
       "4   4  17474       1     156    56.0    100     60            1     1      0   \n",
       "\n",
       "   alco  active  cardio  \n",
       "0     0       1       0  \n",
       "1     0       1       1  \n",
       "2     0       0       1  \n",
       "3     0       1       1  \n",
       "4     0       0       0  "
      ]
     },
     "execution_count": 6,
     "metadata": {},
     "output_type": "execute_result"
    }
   ],
   "source": [
    "df_train.head()"
   ]
  },
  {
   "cell_type": "code",
   "execution_count": 7,
   "id": "2ed38759",
   "metadata": {},
   "outputs": [
    {
     "data": {
      "text/html": [
       "<div>\n",
       "<style scoped>\n",
       "    .dataframe tbody tr th:only-of-type {\n",
       "        vertical-align: middle;\n",
       "    }\n",
       "\n",
       "    .dataframe tbody tr th {\n",
       "        vertical-align: top;\n",
       "    }\n",
       "\n",
       "    .dataframe thead th {\n",
       "        text-align: right;\n",
       "    }\n",
       "</style>\n",
       "<table border=\"1\" class=\"dataframe\">\n",
       "  <thead>\n",
       "    <tr style=\"text-align: right;\">\n",
       "      <th></th>\n",
       "      <th>id</th>\n",
       "      <th>age</th>\n",
       "      <th>gender</th>\n",
       "      <th>height</th>\n",
       "      <th>weight</th>\n",
       "      <th>ap_hi</th>\n",
       "      <th>ap_lo</th>\n",
       "      <th>cholesterol</th>\n",
       "      <th>gluc</th>\n",
       "      <th>smoke</th>\n",
       "      <th>alco</th>\n",
       "      <th>active</th>\n",
       "    </tr>\n",
       "  </thead>\n",
       "  <tbody>\n",
       "    <tr>\n",
       "      <th>0</th>\n",
       "      <td>5</td>\n",
       "      <td>18888</td>\n",
       "      <td>1</td>\n",
       "      <td>154</td>\n",
       "      <td>85.0</td>\n",
       "      <td>130</td>\n",
       "      <td>80</td>\n",
       "      <td>1</td>\n",
       "      <td>1</td>\n",
       "      <td>0</td>\n",
       "      <td>0</td>\n",
       "      <td>1</td>\n",
       "    </tr>\n",
       "    <tr>\n",
       "      <th>1</th>\n",
       "      <td>6</td>\n",
       "      <td>19042</td>\n",
       "      <td>2</td>\n",
       "      <td>170</td>\n",
       "      <td>69.0</td>\n",
       "      <td>130</td>\n",
       "      <td>90</td>\n",
       "      <td>1</td>\n",
       "      <td>1</td>\n",
       "      <td>0</td>\n",
       "      <td>0</td>\n",
       "      <td>1</td>\n",
       "    </tr>\n",
       "    <tr>\n",
       "      <th>2</th>\n",
       "      <td>7</td>\n",
       "      <td>20432</td>\n",
       "      <td>1</td>\n",
       "      <td>160</td>\n",
       "      <td>70.0</td>\n",
       "      <td>120</td>\n",
       "      <td>75</td>\n",
       "      <td>1</td>\n",
       "      <td>1</td>\n",
       "      <td>0</td>\n",
       "      <td>0</td>\n",
       "      <td>0</td>\n",
       "    </tr>\n",
       "    <tr>\n",
       "      <th>3</th>\n",
       "      <td>10</td>\n",
       "      <td>18133</td>\n",
       "      <td>2</td>\n",
       "      <td>185</td>\n",
       "      <td>94.0</td>\n",
       "      <td>130</td>\n",
       "      <td>90</td>\n",
       "      <td>1</td>\n",
       "      <td>1</td>\n",
       "      <td>0</td>\n",
       "      <td>0</td>\n",
       "      <td>1</td>\n",
       "    </tr>\n",
       "    <tr>\n",
       "      <th>4</th>\n",
       "      <td>11</td>\n",
       "      <td>16093</td>\n",
       "      <td>2</td>\n",
       "      <td>170</td>\n",
       "      <td>76.0</td>\n",
       "      <td>120</td>\n",
       "      <td>80</td>\n",
       "      <td>1</td>\n",
       "      <td>1</td>\n",
       "      <td>0</td>\n",
       "      <td>0</td>\n",
       "      <td>1</td>\n",
       "    </tr>\n",
       "  </tbody>\n",
       "</table>\n",
       "</div>"
      ],
      "text/plain": [
       "   id    age  gender  height  weight  ap_hi  ap_lo  cholesterol  gluc  smoke  \\\n",
       "0   5  18888       1     154    85.0    130     80            1     1      0   \n",
       "1   6  19042       2     170    69.0    130     90            1     1      0   \n",
       "2   7  20432       1     160    70.0    120     75            1     1      0   \n",
       "3  10  18133       2     185    94.0    130     90            1     1      0   \n",
       "4  11  16093       2     170    76.0    120     80            1     1      0   \n",
       "\n",
       "   alco  active  \n",
       "0     0       1  \n",
       "1     0       1  \n",
       "2     0       0  \n",
       "3     0       1  \n",
       "4     0       1  "
      ]
     },
     "execution_count": 7,
     "metadata": {},
     "output_type": "execute_result"
    }
   ],
   "source": [
    "df_test.head()"
   ]
  },
  {
   "cell_type": "code",
   "execution_count": 8,
   "id": "407fc147",
   "metadata": {
    "scrolled": false
   },
   "outputs": [
    {
     "data": {
      "text/plain": [
       "id             0\n",
       "age            0\n",
       "gender         0\n",
       "height         0\n",
       "weight         0\n",
       "ap_hi          0\n",
       "ap_lo          0\n",
       "cholesterol    0\n",
       "gluc           0\n",
       "smoke          0\n",
       "alco           0\n",
       "active         0\n",
       "cardio         0\n",
       "dtype: int64"
      ]
     },
     "execution_count": 8,
     "metadata": {},
     "output_type": "execute_result"
    }
   ],
   "source": [
    "df_train.isnull().sum() #проверяем пропуски"
   ]
  },
  {
   "cell_type": "code",
   "execution_count": 9,
   "id": "3d84584c",
   "metadata": {},
   "outputs": [
    {
     "data": {
      "text/plain": [
       "0"
      ]
     },
     "execution_count": 9,
     "metadata": {},
     "output_type": "execute_result"
    }
   ],
   "source": [
    "df_train.duplicated().sum() #проверяем дубликаты "
   ]
  },
  {
   "cell_type": "code",
   "execution_count": 10,
   "id": "5c4c60a8",
   "metadata": {
    "scrolled": true
   },
   "outputs": [
    {
     "name": "stdout",
     "output_type": "stream",
     "text": [
      "<class 'pandas.core.frame.DataFrame'>\n",
      "RangeIndex: 70000 entries, 0 to 69999\n",
      "Data columns (total 13 columns):\n",
      " #   Column       Non-Null Count  Dtype  \n",
      "---  ------       --------------  -----  \n",
      " 0   id           70000 non-null  int64  \n",
      " 1   age          70000 non-null  int64  \n",
      " 2   gender       70000 non-null  int64  \n",
      " 3   height       70000 non-null  int64  \n",
      " 4   weight       70000 non-null  float64\n",
      " 5   ap_hi        70000 non-null  int64  \n",
      " 6   ap_lo        70000 non-null  int64  \n",
      " 7   cholesterol  70000 non-null  int64  \n",
      " 8   gluc         70000 non-null  int64  \n",
      " 9   smoke        70000 non-null  int64  \n",
      " 10  alco         70000 non-null  int64  \n",
      " 11  active       70000 non-null  int64  \n",
      " 12  cardio       70000 non-null  int64  \n",
      "dtypes: float64(1), int64(12)\n",
      "memory usage: 6.9 MB\n"
     ]
    }
   ],
   "source": [
    "df_train.info()"
   ]
  },
  {
   "cell_type": "code",
   "execution_count": 11,
   "id": "c0c74930",
   "metadata": {
    "scrolled": true
   },
   "outputs": [
    {
     "data": {
      "text/plain": [
       "array([ 62.  ,  85.  ,  64.  ,  82.  ,  56.  ,  67.  ,  93.  ,  95.  ,\n",
       "        71.  ,  68.  ,  80.  ,  60.  ,  78.  , 112.  ,  75.  ,  52.  ,\n",
       "        83.  ,  69.  ,  90.  ,  45.  ,  65.  ,  59.  ,  66.  ,  74.  ,\n",
       "       105.  ,  73.  ,  55.  ,  70.  ,  72.  ,  63.  ,  50.  , 107.  ,\n",
       "        84.  ,  77.  ,  79.  ,  76.  ,  58.  , 115.  ,  97.  ,  53.  ,\n",
       "        57.  ,  49.  , 110.  ,  94.  ,  92.  ,  87.  , 103.  ,  88.  ,\n",
       "        99.  , 100.  ,  61.  ,  48.  ,  54.  ,  51.  ,  47.  ,  91.  ,\n",
       "       104.  ,  81.  ,  98.  , 108.  ,  89.  , 101.  ,  86.  ,  65.5 ,\n",
       "       142.  ,  96.  ,  44.  ,  41.  , 169.  , 116.  , 200.  ,  64.8 ,\n",
       "       120.  , 117.  , 125.  , 106.  , 114.  , 113.  , 129.  , 124.  ,\n",
       "        42.  , 123.  , 111.  , 102.  , 109.  ,  46.  , 139.  , 150.  ,\n",
       "       138.  , 131.  ,  43.  ,  83.6 , 134.  , 106.5 , 121.  ,  40.  ,\n",
       "       141.  , 119.  , 126.  , 177.  , 165.  , 122.  ,  62.3 , 118.  ,\n",
       "        89.5 , 132.  , 155.  , 130.  , 159.  ,  84.6 , 140.  ,  82.3 ,\n",
       "        30.  ,  67.9 , 127.  ,  67.5 ,  74.3 , 149.  , 180.  , 128.  ,\n",
       "        60.2 ,  64.5 ,  58.7 ,  90.5 ,  37.  ,  80.8 , 166.  , 161.  ,\n",
       "        92.2 ,  75.6 , 136.  ,  82.9 , 154.  ,  68.9 , 170.  ,  84.5 ,\n",
       "       135.  ,  72.5 , 146.  ,  70.5 ,  74.2 ,  84.3 ,  38.  ,  54.5 ,\n",
       "       145.  ,  68.5 ,  79.5 ,  72.8 ,  73.2 ,  96.5 ,  53.2 ,  39.  ,\n",
       "        61.2 , 168.  , 133.  ,  54.35,  50.7 ,  79.94,  45.8 , 153.  ,\n",
       "        34.  ,  62.4 , 167.  , 156.  ,  35.  ,  70.3 ,  31.  ,  60.5 ,\n",
       "        69.8 ,  64.7 ,  64.1 , 152.  ,  59.5 , 163.  ,  75.5 ,  78.2 ,\n",
       "       162.  , 121.3 , 178.  ,  82.5 ,  90.7 ,  80.6 ,  55.6 ,  59.8 ,\n",
       "        74.77,  32.  ,  70.8 ,  57.4 ,  73.8 ,  56.2 ,  69.5 ,  71.5 ,\n",
       "        89.1 , 158.  ,  76.5 ,  35.45,  86.5 ,  63.8 ,  23.  , 144.  ,\n",
       "        70.2 ,  68.4 , 148.  , 164.  ,  22.  ,  66.5 ,  54.9 ,  59.2 ,\n",
       "        65.3 , 137.  ,  62.2 ,  50.5 ,  36.  ,  61.5 ,  80.5 ,  81.1 ,\n",
       "        53.6 ,  11.  ,  66.4 ,  76.7 ,  28.  ,  68.3 ,  60.6 ,  76.8 ,\n",
       "        58.8 , 181.  ,  75.2 ,  83.5 ,  64.3 , 175.  ,  84.9 ,  80.7 ,\n",
       "        84.7 ,  60.1 , 105.5 ,  85.5 , 121.8 ,  51.5 ,  53.9 ,  42.2 ,\n",
       "        74.5 , 114.6 ,  73.5 ,  71.3 ,  33.  ,  66.3 ,  53.3 ,  67.8 ,\n",
       "        70.7 ,  52.3 ,  82.4 ,  63.4 ,  71.2 ,  62.5 ,  63.82,  88.5 ,\n",
       "        89.9 ,  72.1 , 106.4 , 160.  ,  68.2 ,  53.67, 171.  ,  55.2 ,\n",
       "        94.5 , 143.  ,  62.7 ,  53.5 , 109.5 ,  10.  ,  82.1 ,  57.8 ,\n",
       "        84.8 ,  21.  ,  29.  , 183.  ,  58.5 ,  57.6 ,  78.5 , 172.  ,\n",
       "       109.7 ,  61.3 ,  67.3 ,  94.7 , 147.  ,  55.4 ,  99.9 ])"
      ]
     },
     "execution_count": 11,
     "metadata": {},
     "output_type": "execute_result"
    }
   ],
   "source": [
    "df_train['weight'].unique() "
   ]
  },
  {
   "cell_type": "code",
   "execution_count": 12,
   "id": "6078d75a",
   "metadata": {},
   "outputs": [],
   "source": [
    "#работаем с весом , меняем тип"
   ]
  },
  {
   "cell_type": "code",
   "execution_count": 13,
   "id": "21d3eac7",
   "metadata": {},
   "outputs": [],
   "source": [
    "df_train['weight']=df_train['weight'].astype('int64')"
   ]
  },
  {
   "cell_type": "code",
   "execution_count": 14,
   "id": "2c5060ef",
   "metadata": {},
   "outputs": [],
   "source": [
    "#исправление веса "
   ]
  },
  {
   "cell_type": "code",
   "execution_count": 15,
   "id": "f462044a",
   "metadata": {},
   "outputs": [],
   "source": [
    "df_train.loc[df_train['weight']<0, 'weight'] = df_train['weight']*(-1)"
   ]
  },
  {
   "cell_type": "code",
   "execution_count": 16,
   "id": "d6b4e79b",
   "metadata": {},
   "outputs": [],
   "source": [
    "df_train.loc[((df_train['weight']< 45)|(df_train['weight'] > 220)), 'weight']  = df_train['weight'].median()"
   ]
  },
  {
   "cell_type": "code",
   "execution_count": 17,
   "id": "d4510882",
   "metadata": {},
   "outputs": [],
   "source": [
    "#изучаем рост  и исправляем некорректные значения"
   ]
  },
  {
   "cell_type": "code",
   "execution_count": 18,
   "id": "0cb095b6",
   "metadata": {
    "scrolled": true
   },
   "outputs": [
    {
     "data": {
      "text/plain": [
       "array([168, 156, 165, 169, 151, 157, 178, 158, 164, 173, 181, 172, 170,\n",
       "       154, 162, 163, 153, 159, 166, 155, 160, 175, 171, 152, 187, 148,\n",
       "       179, 180, 188, 185, 167, 183, 174, 176, 161, 184, 177, 182,  76,\n",
       "       149, 142, 150, 144, 147, 186, 146, 141, 195, 140, 198, 145, 143,\n",
       "       196, 138, 194, 190, 134, 136, 100, 120, 189, 137, 192, 122, 250,\n",
       "       191, 117,  70,  97, 119, 130, 110, 193,  75, 132,  71, 135,  67,\n",
       "       125, 139, 133,  74,  98, 112, 207,  68,  55,  81,  80,  64,  91,\n",
       "        60, 109,  72, 197,  65, 128, 105, 108, 200, 104, 111, 113,  96,\n",
       "       131,  59,  66,  99,  57])"
      ]
     },
     "execution_count": 18,
     "metadata": {},
     "output_type": "execute_result"
    }
   ],
   "source": [
    "df_train['height'].unique()"
   ]
  },
  {
   "cell_type": "code",
   "execution_count": 19,
   "id": "f38aecfc",
   "metadata": {},
   "outputs": [],
   "source": [
    "df_train.loc[(df_train['height'] < 120), 'height']  = df_train['height'].median()"
   ]
  },
  {
   "cell_type": "code",
   "execution_count": 20,
   "id": "39e1fbfe",
   "metadata": {
    "scrolled": false
   },
   "outputs": [
    {
     "data": {
      "text/plain": [
       "array([168, 156, 165, 169, 151, 157, 178, 158, 164, 173, 181, 172, 170,\n",
       "       154, 162, 163, 153, 159, 166, 155, 160, 175, 171, 152, 187, 148,\n",
       "       179, 180, 188, 185, 167, 183, 174, 176, 161, 184, 177, 182, 149,\n",
       "       142, 150, 144, 147, 186, 146, 141, 195, 140, 198, 145, 143, 196,\n",
       "       138, 194, 190, 134, 136, 120, 189, 137, 192, 122, 250, 191, 130,\n",
       "       193, 132, 135, 125, 139, 133, 207, 197, 128, 200, 131])"
      ]
     },
     "execution_count": 20,
     "metadata": {},
     "output_type": "execute_result"
    }
   ],
   "source": [
    "df_train['height'].unique()"
   ]
  },
  {
   "cell_type": "code",
   "execution_count": 21,
   "id": "14e88b0f",
   "metadata": {},
   "outputs": [],
   "source": [
    "#работаем с давлением. \n",
    "#приводим все аномальные значения к более вероятным"
   ]
  },
  {
   "cell_type": "code",
   "execution_count": 22,
   "id": "8b780efd",
   "metadata": {},
   "outputs": [],
   "source": [
    "df_train.loc[df_train['ap_lo'] < 0, 'ap_lo'] = df_train['ap_lo']*(-1)\n",
    "df_train.loc[((df_train['ap_lo'] < 40)|(df_train['ap_lo'] > 180)), 'ap_lo'] = df_train['ap_lo'].median()"
   ]
  },
  {
   "cell_type": "code",
   "execution_count": 23,
   "id": "d8a32f5b",
   "metadata": {},
   "outputs": [],
   "source": [
    "df_train.loc[df_train['ap_hi'] < 0, 'ap_hi'] = df_train['ap_hi']*(-1)\n",
    "df_train.loc[((df_train['ap_hi'] > 250)&(df_train['ap_hi'] < 10000)), 'ap_hi'] = df_train['ap_hi']//10\n",
    "df_train.loc[df_train['ap_hi'] >= 10000,'ap_hi'] = df_train['ap_hi']//100\n",
    "df_train.loc[df_train['ap_hi'] < 60,'ap_hi'] = df_train['ap_hi'].median()"
   ]
  },
  {
   "cell_type": "code",
   "execution_count": 24,
   "id": "a182e53f",
   "metadata": {},
   "outputs": [
    {
     "data": {
      "text/plain": [
       "array([110, 140, 130, 150, 100, 120, 145, 170, 135, 125,  90, 180, 160,\n",
       "       133, 190,  80, 122, 169, 126, 158, 200, 123,  70, 161, 147, 115,\n",
       "       137, 153, 148, 105, 220, 119, 141, 165, 164, 124, 172, 162, 117,\n",
       "       134, 166, 210, 176, 116, 121, 112, 159, 113, 118, 155, 142, 131,\n",
       "       157, 136, 146, 138, 109,  85, 106, 129,  93,  95, 179, 156, 168,\n",
       "       132, 104, 103, 178, 175, 128, 151, 139, 127, 108, 144, 102, 143,\n",
       "       107, 184, 149, 167, 114, 101,  60, 181, 171, 202, 111, 188, 185,\n",
       "       163, 173, 154, 177, 174, 240, 191, 197, 152,  96, 199, 193,  99,\n",
       "       196, 230, 207, 215,  97, 195, 187])"
      ]
     },
     "execution_count": 24,
     "metadata": {},
     "output_type": "execute_result"
    }
   ],
   "source": [
    "df_train['ap_hi'].unique()"
   ]
  },
  {
   "cell_type": "code",
   "execution_count": 25,
   "id": "68ee2f0d",
   "metadata": {},
   "outputs": [
    {
     "data": {
      "text/plain": [
       "array([ 80,  90,  70, 100,  60,  85,  89, 110,  65,  63,  79, 120,  50,\n",
       "       109,  84, 150,  91,  40,  73,  78,  75,  86,  87,  82,  95,  69,\n",
       "        74,  97,  81,  83, 119,  93, 105,  99,  77,  59, 140,  92, 108,\n",
       "       125, 115,  68,  61, 106, 102,  94,  66,  52, 170,  76, 160,  62,\n",
       "        96, 130, 113,  67,  88, 112, 104,  71,  72,  98,  57, 101,  64,\n",
       "        45,  58, 126, 103, 180, 121, 114,  53, 111, 118,  56, 107,  55,\n",
       "       122, 135,  54,  49])"
      ]
     },
     "execution_count": 25,
     "metadata": {},
     "output_type": "execute_result"
    }
   ],
   "source": [
    "df_train['ap_lo'].unique()"
   ]
  },
  {
   "cell_type": "code",
   "execution_count": 26,
   "id": "adabfa80",
   "metadata": {},
   "outputs": [
    {
     "data": {
      "text/plain": [
       "120    27886\n",
       "140     9515\n",
       "130     8965\n",
       "110     8645\n",
       "150     4452\n",
       "       ...  \n",
       "197        1\n",
       "181        1\n",
       "184        1\n",
       "202        1\n",
       "187        1\n",
       "Name: ap_hi, Length: 111, dtype: int64"
      ]
     },
     "execution_count": 26,
     "metadata": {},
     "output_type": "execute_result"
    }
   ],
   "source": [
    "df_train['ap_hi'].value_counts()"
   ]
  },
  {
   "cell_type": "code",
   "execution_count": 27,
   "id": "e1b53178",
   "metadata": {},
   "outputs": [],
   "source": [
    "df_train_tmp = df_train[['ap_hi','ap_lo']]\n",
    "df_train['ap_hi'], df_train['ap_lo'] = df_train_tmp.max(axis=1), df_train_tmp.min(axis=1),"
   ]
  },
  {
   "cell_type": "code",
   "execution_count": 28,
   "id": "f4aea144",
   "metadata": {},
   "outputs": [
    {
     "data": {
      "text/plain": [
       "array([1, 3, 2])"
      ]
     },
     "execution_count": 28,
     "metadata": {},
     "output_type": "execute_result"
    }
   ],
   "source": [
    "df_train['cholesterol'].unique()"
   ]
  },
  {
   "cell_type": "code",
   "execution_count": 29,
   "id": "a379d1c8",
   "metadata": {},
   "outputs": [
    {
     "data": {
      "text/plain": [
       "array([0, 1])"
      ]
     },
     "execution_count": 29,
     "metadata": {},
     "output_type": "execute_result"
    }
   ],
   "source": [
    "df_train['cardio'].unique()"
   ]
  },
  {
   "cell_type": "code",
   "execution_count": 30,
   "id": "b17fb477",
   "metadata": {},
   "outputs": [],
   "source": [
    "df_train['age']= df_train['age']/364"
   ]
  },
  {
   "cell_type": "code",
   "execution_count": 31,
   "id": "11215498",
   "metadata": {},
   "outputs": [],
   "source": [
    "df_train['age']= df_train['age'].round()"
   ]
  },
  {
   "cell_type": "code",
   "execution_count": 32,
   "id": "ee5e8910",
   "metadata": {},
   "outputs": [
    {
     "data": {
      "text/plain": [
       "array([51., 56., 52., 48., 60., 61., 62., 49., 54., 41., 40., 46., 59.,\n",
       "       63., 64., 50., 58., 57., 55., 44., 53., 65., 47., 42., 39., 43.,\n",
       "       45., 30.])"
      ]
     },
     "execution_count": 32,
     "metadata": {},
     "output_type": "execute_result"
    }
   ],
   "source": [
    "df_train['age'].unique()"
   ]
  },
  {
   "cell_type": "code",
   "execution_count": 33,
   "id": "e0bae7a0",
   "metadata": {
    "scrolled": true
   },
   "outputs": [
    {
     "data": {
      "image/png": "[encoded data removed]",
      "text/plain": [
       "<Figure size 1224x1224 with 2 Axes>"
      ]
     },
     "metadata": {
      "needs_background": "light"
     },
     "output_type": "display_data"
    }
   ],
   "source": [
    "fig, ax = plt.subplots(figsize=(17,17))\n",
    "hm = sns.heatmap(df_train.corr(), vmin=-1, vmax=1, annot=True, cmap='PRGn')\n",
    "hm.set_title('Корреляционная матрица', fontdict={'fontsize': 20, 'color': 'red'})\n",
    "plt.show()"
   ]
  },
  {
   "cell_type": "code",
   "execution_count": 34,
   "id": "91aaa0a1",
   "metadata": {},
   "outputs": [],
   "source": [
    "x_train = df_train.drop([\"cardio\"], axis = 1)\n",
    "y_train = df_train[\"cardio\"]\n",
    "x_test = df_test"
   ]
  },
  {
   "cell_type": "code",
   "execution_count": null,
   "id": "139132bb",
   "metadata": {},
   "outputs": [],
   "source": [
    "#обьединим для признака рост и вес "
   ]
  },
  {
   "cell_type": "code",
   "execution_count": 35,
   "id": "2b0843f9",
   "metadata": {},
   "outputs": [],
   "source": [
    "x_test['imt']= (x_test['weight']//(x_test['height']/100)**2).astype('int')"
   ]
  },
  {
   "cell_type": "code",
   "execution_count": 36,
   "id": "cdedd82a",
   "metadata": {},
   "outputs": [],
   "source": [
    "x_train['imt']= (x_train['weight']//(x_train['height']/100)**2).astype('int')"
   ]
  },
  {
   "cell_type": "code",
   "execution_count": 37,
   "id": "08d57095",
   "metadata": {
    "scrolled": true
   },
   "outputs": [],
   "source": [
    "x_train = x_train.drop(['weight', 'height', 'id'], axis=1)"
   ]
  },
  {
   "cell_type": "code",
   "execution_count": 38,
   "id": "40fb3fae",
   "metadata": {},
   "outputs": [],
   "source": [
    "x_test = x_test.drop(['weight', 'height', 'id'], axis=1)"
   ]
  },
  {
   "cell_type": "code",
   "execution_count": 39,
   "id": "7526585e",
   "metadata": {
    "scrolled": true
   },
   "outputs": [
    {
     "data": {
      "text/plain": [
       "0    35021\n",
       "1    34979\n",
       "Name: cardio, dtype: int64"
      ]
     },
     "execution_count": 39,
     "metadata": {},
     "output_type": "execute_result"
    }
   ],
   "source": [
    "y_train.value_counts()"
   ]
  },
  {
   "cell_type": "markdown",
   "id": "11cf59de",
   "metadata": {},
   "source": [
    "##  Модель и подбор признаков для нее "
   ]
  },
  {
   "cell_type": "code",
   "execution_count": 40,
   "id": "b33755d2",
   "metadata": {
    "scrolled": true
   },
   "outputs": [
    {
     "name": "stdout",
     "output_type": "stream",
     "text": [
      "[1 1 1 ... 1 1 1]\n",
      "[[0.38029325 0.61970675]\n",
      " [0.35032358 0.64967642]\n",
      " [0.38738482 0.61261518]\n",
      " ...\n",
      " [0.36407824 0.63592176]\n",
      " [0.3418206  0.6581794 ]\n",
      " [0.2653167  0.7346833 ]]\n"
     ]
    }
   ],
   "source": [
    "model_rfс = RandomForestClassifier(random_state=12345, \n",
    "                                   n_estimators=400, \n",
    "                                   bootstrap = True, \n",
    "                                   min_samples_split = 10,\n",
    "                                   max_depth = 11, \n",
    "                                   min_samples_leaf = 10, \n",
    "                                   criterion = 'entropy')\n",
    "model_rfс.fit(x_train, y_train) \n",
    "predictions_rfc = model_rfс.predict(x_test)\n",
    "print(predictions_rfc)\n",
    "probabilities = model_rfс.predict_proba(x_test)\n",
    "print(probabilities)"
   ]
  },
  {
   "cell_type": "code",
   "execution_count": 41,
   "id": "48ed1c86",
   "metadata": {},
   "outputs": [
    {
     "data": {
      "text/html": [
       "<div>\n",
       "<style scoped>\n",
       "    .dataframe tbody tr th:only-of-type {\n",
       "        vertical-align: middle;\n",
       "    }\n",
       "\n",
       "    .dataframe tbody tr th {\n",
       "        vertical-align: top;\n",
       "    }\n",
       "\n",
       "    .dataframe thead th {\n",
       "        text-align: right;\n",
       "    }\n",
       "</style>\n",
       "<table border=\"1\" class=\"dataframe\">\n",
       "  <thead>\n",
       "    <tr style=\"text-align: right;\">\n",
       "      <th></th>\n",
       "      <th>id</th>\n",
       "      <th>cardio</th>\n",
       "    </tr>\n",
       "  </thead>\n",
       "  <tbody>\n",
       "    <tr>\n",
       "      <th>0</th>\n",
       "      <td>5</td>\n",
       "      <td>0.619707</td>\n",
       "    </tr>\n",
       "    <tr>\n",
       "      <th>1</th>\n",
       "      <td>6</td>\n",
       "      <td>0.649676</td>\n",
       "    </tr>\n",
       "    <tr>\n",
       "      <th>2</th>\n",
       "      <td>7</td>\n",
       "      <td>0.612615</td>\n",
       "    </tr>\n",
       "    <tr>\n",
       "      <th>3</th>\n",
       "      <td>10</td>\n",
       "      <td>0.649620</td>\n",
       "    </tr>\n",
       "    <tr>\n",
       "      <th>4</th>\n",
       "      <td>11</td>\n",
       "      <td>0.515521</td>\n",
       "    </tr>\n",
       "    <tr>\n",
       "      <th>...</th>\n",
       "      <td>...</td>\n",
       "      <td>...</td>\n",
       "    </tr>\n",
       "    <tr>\n",
       "      <th>29995</th>\n",
       "      <td>99984</td>\n",
       "      <td>0.866126</td>\n",
       "    </tr>\n",
       "    <tr>\n",
       "      <th>29996</th>\n",
       "      <td>99987</td>\n",
       "      <td>0.464709</td>\n",
       "    </tr>\n",
       "    <tr>\n",
       "      <th>29997</th>\n",
       "      <td>99989</td>\n",
       "      <td>0.635922</td>\n",
       "    </tr>\n",
       "    <tr>\n",
       "      <th>29998</th>\n",
       "      <td>99994</td>\n",
       "      <td>0.658179</td>\n",
       "    </tr>\n",
       "    <tr>\n",
       "      <th>29999</th>\n",
       "      <td>99997</td>\n",
       "      <td>0.734683</td>\n",
       "    </tr>\n",
       "  </tbody>\n",
       "</table>\n",
       "<p>30000 rows × 2 columns</p>\n",
       "</div>"
      ],
      "text/plain": [
       "          id    cardio\n",
       "0          5  0.619707\n",
       "1          6  0.649676\n",
       "2          7  0.612615\n",
       "3         10  0.649620\n",
       "4         11  0.515521\n",
       "...      ...       ...\n",
       "29995  99984  0.866126\n",
       "29996  99987  0.464709\n",
       "29997  99989  0.635922\n",
       "29998  99994  0.658179\n",
       "29999  99997  0.734683\n",
       "\n",
       "[30000 rows x 2 columns]"
      ]
     },
     "execution_count": 41,
     "metadata": {},
     "output_type": "execute_result"
    }
   ],
   "source": [
    "res = df_test \n",
    "res['cardio'] = probabilities[:,1]\n",
    "res = res[['id', 'cardio']]\n",
    "res.to_csv('submission12345.csv', index=False)\n",
    "res"
   ]
  },
  {
   "cell_type": "code",
   "execution_count": null,
   "id": "77d16e9d",
   "metadata": {
    "scrolled": false
   },
   "outputs": [],
   "source": []
  },
  {
   "cell_type": "code",
   "execution_count": null,
   "id": "a485e29d",
   "metadata": {},
   "outputs": [],
   "source": []
  }
 ],
 "metadata": {
  "kernelspec": {
   "display_name": "Python 3 (ipykernel)",
   "language": "python",
   "name": "python3"
  },
  "language_info": {
   "codemirror_mode": {
    "name": "ipython",
    "version": 3
   },
   "file_extension": ".py",
   "mimetype": "text/x-python",
   "name": "python",
   "nbconvert_exporter": "python",
   "pygments_lexer": "ipython3",
   "version": "3.9.7"
  },
  "vscode": {
   "interpreter": {
    "hash": "aee8b7b246df8f9039afb4144a1f6fd8d2ca17a180786b69acc140d282b71a49"
   }
  }
 },
 "nbformat": 4,
 "nbformat_minor": 5
}
